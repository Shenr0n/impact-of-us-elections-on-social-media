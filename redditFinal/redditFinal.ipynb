{
 "cells": [
  {
   "cell_type": "code",
   "execution_count": 1,
   "id": "4527b090",
   "metadata": {},
   "outputs": [],
   "source": [
    "import json\n",
    "from nrclex import NRCLex\n",
    "from vaderSentiment.vaderSentiment import SentimentIntensityAnalyzer\n",
    "from urllib.parse import urlparse\n",
    "from collections import Counter\n",
    "from datetime import datetime\n",
    "import datetime as dt\n",
    "import numpy as np\n",
    "from bokeh.models import CustomJS, ColumnDataSource, Select, Column\n",
    "from bokeh.plotting import figure, show\n",
    "from dateutil.tz import gettz\n",
    "import pytz\n",
    "import itertools"
   ]
  },
  {
   "cell_type": "code",
   "execution_count": 2,
   "id": "e74265c7",
   "metadata": {},
   "outputs": [],
   "source": [
    "#Fetch the stored json data of posts and comments\n",
    "analyzer = SentimentIntensityAnalyzer()\n",
    "\n",
    "fp = open('postCollection.json','r',encoding='utf-8')\n",
    "fc = open('commentCollection.json','r',encoding='utf-8')\n",
    "dataP = json.load(fp)\n",
    "dataC = json.load(fc)"
   ]
  },
  {
   "cell_type": "code",
   "execution_count": 3,
   "id": "edacda57",
   "metadata": {
    "scrolled": true
   },
   "outputs": [],
   "source": [
    "postCount = 0\n",
    "cmtCount = 0\n",
    "posCount = 0\n",
    "negCount = 0\n",
    "neuCount = 0\n",
    "polSRCount = 0\n",
    "polSRCmtCount = 0\n",
    "topicPDict = {\"abortionPost\":0,\"inflationPost\":0,\"studLoanPost\":0,\"recessionPost\":0,\"electionPost\":0,\"trumpPost\":0,\n",
    "            \"bidenPost\":0,\"lgbtqPost\":0,\"gunPost\":0,\"covidPost\":0}\n",
    "topicCDict = {\"abortionCmt\":0,\"inflationCmt\":0,\"studLoanCmt\":0,\"recessionCmt\":0,\"electionCmt\":0,\"trumpCmt\":0,\n",
    "            \"bidenCmt\":0,\"lgbtqCmt\":0,\"gunCmt\":0,\"covidCmt\":0}\n"
   ]
  },
  {
   "cell_type": "code",
   "execution_count": null,
   "id": "741c04c8",
   "metadata": {},
   "outputs": [],
   "source": [
    "#Simple sentiment and topic analysis for posts"
   ]
  },
  {
   "cell_type": "code",
   "execution_count": 4,
   "id": "b9f43c6a",
   "metadata": {},
   "outputs": [
    {
     "name": "stdout",
     "output_type": "stream",
     "text": [
      "r/politics posts : 6551\n",
      "{'abortionPost': 794, 'inflationPost': 365, 'studLoanPost': 179, 'recessionPost': 72, 'electionPost': 4310, 'trumpPost': 4148, 'bidenPost': 2859, 'lgbtqPost': 598, 'gunPost': 672, 'covidPost': 568}\n",
      "Total posts : 37532\n",
      "Positive posts: 1673\n",
      "Negative posts: 7375\n",
      "Neutral posts: 28484\n",
      "% positive posts: 4.4575295747628685\n",
      "% negative posts: 19.64989875306405\n"
     ]
    }
   ],
   "source": [
    "for post in dataP:\n",
    "    postCount += 1\n",
    "    line = (post['title'].split('\\n'))\n",
    "    line2 = str(line).lower()\n",
    "    vs = analyzer.polarity_scores(line)\n",
    "    if vs['compound'] >= 0.6:\n",
    "        posCount += 1\n",
    "    if vs['compound'] <= -0.5:\n",
    "        negCount += 1\n",
    "    if ((vs['compound'] > -0.5) and (vs['compound'] < 0.6)):\n",
    "        neuCount += 1\n",
    "    \n",
    "    if \"abort\" in line2 or \"abortion\" in line2:\n",
    "        topicPDict[\"abortionPost\"] +=1\n",
    "    if \"inflation\" in line2:\n",
    "        topicPDict[\"inflationPost\"] +=1\n",
    "    if \"student loan\" in line2:\n",
    "        topicPDict[\"studLoanPost\"] +=1\n",
    "    if \"recession\" in line2:\n",
    "        topicPDict[\"recessionPost\"] +=1\n",
    "    if \"election\" in line2 or \"elections\" in line2 or \"votes\" in line2 or \"vote\" in line2:\n",
    "        topicPDict[\"electionPost\"] +=1\n",
    "    if \"trump\" in line2:\n",
    "        topicPDict[\"trumpPost\"] +=1\n",
    "    if \"biden\" in line2:\n",
    "        topicPDict[\"bidenPost\"] +=1\n",
    "    if \"gay\" in line2 or \"lgbt\" in line2 or \"trans\" in line2 or \"pronoun\" in line2:\n",
    "        topicPDict[\"lgbtqPost\"] +=1\n",
    "    if \"gun\" in line2 or \"weapon\" in line2 or \"second amendment\" in line2:\n",
    "        topicPDict[\"gunPost\"] +=1\n",
    "    if \"covid\" in line2:\n",
    "        topicPDict[\"covidPost\"] +=1\n",
    "    \n",
    "    if post['subreddit'] == \"r/politics\":\n",
    "        polSRCount +=1    \n",
    "        \n",
    "print(\"r/politics posts : \"+str(polSRCount))\n",
    "print(topicPDict)\n",
    "keysP = topicPDict.keys()\n",
    "valuesP = topicPDict.values()\n",
    "print(\"Total posts : \"+str(postCount))\n",
    "print(\"Positive posts: \"+str(posCount))\n",
    "print(\"Negative posts: \"+str(negCount))\n",
    "print(\"Neutral posts: \"+str(neuCount))\n",
    "print(\"% positive posts: \"+str((posCount/postCount)*100))\n",
    "print(\"% negative posts: \"+str((negCount/postCount)*100))"
   ]
  },
  {
   "cell_type": "code",
   "execution_count": 5,
   "id": "e254145c",
   "metadata": {},
   "outputs": [],
   "source": [
    "posCount = 0\n",
    "negCount = 0\n",
    "neuCount = 0"
   ]
  },
  {
   "cell_type": "code",
   "execution_count": 6,
   "id": "00a48425",
   "metadata": {},
   "outputs": [],
   "source": [
    "#Simple sentiment and topic analysis for comments\n",
    "for cmt in dataC:\n",
    "    cmtCount += 1\n",
    "    line = (cmt['comment_text'].split('\\n'))\n",
    "    line2 = str(line).lower()\n",
    "    vs = analyzer.polarity_scores(line)\n",
    "    if vs['compound'] >= 0.6:\n",
    "        posCount += 1\n",
    "    if vs['compound'] <= -0.5:\n",
    "        negCount += 1\n",
    "    if ((vs['compound'] > -0.5) and (vs['compound'] < 0.6)):\n",
    "        neuCount += 1\n",
    "    \n",
    "    if \"abort\" in line2 or \"abortion\" in line2:\n",
    "        topicCDict[\"abortionCmt\"] +=1\n",
    "    if \"inflation\" in line2:\n",
    "        topicCDict[\"inflationCmt\"] +=1\n",
    "    if \"student loan\" in line2:\n",
    "        topicCDict[\"studLoanCmt\"] +=1\n",
    "    if \"recession\" in line2:\n",
    "        topicCDict[\"recessionCmt\"] +=1\n",
    "    if \"election\" in line2 or \"elections\" in line2 or \"votes\" in line2 or \"vote\" in line2:\n",
    "        topicCDict[\"electionCmt\"] +=1\n",
    "    if \"trump\" in line2:\n",
    "        topicCDict[\"trumpCmt\"] +=1\n",
    "    if \"biden\" in line2:\n",
    "        topicCDict[\"bidenCmt\"] +=1\n",
    "    if \"gay\" in line2 or \"lgbt\" in line2 or \"trans\" in line2 or \"pronoun\" in line2:\n",
    "        topicCDict[\"lgbtqCmt\"] +=1\n",
    "    if \"gun\" in line2 or \"weapon\" in line2 or \"second amendment\" in line2:\n",
    "        topicCDict[\"gunCmt\"] +=1\n",
    "    if \"covid\" in line2:\n",
    "        topicCDict[\"covidCmt\"] +=1\n",
    "    \n",
    "    if cmt['subreddit'] == \"r/politics\":\n",
    "        polSRCmtCount +=1"
   ]
  },
  {
   "cell_type": "code",
   "execution_count": 7,
   "id": "07c6083c",
   "metadata": {},
   "outputs": [
    {
     "name": "stdout",
     "output_type": "stream",
     "text": [
      "r/politics comments : 172656\n",
      "{'abortionCmt': 3930, 'inflationCmt': 3165, 'studLoanCmt': 1114, 'recessionCmt': 616, 'electionCmt': 45902, 'trumpCmt': 29076, 'bidenCmt': 10920, 'lgbtqCmt': 7385, 'gunCmt': 7989, 'covidCmt': 3221}\n",
      "Total comments: 451999\n",
      "Positive comments: 57682\n",
      "Negative comments: 99992\n",
      "Neutral comments: 294325\n",
      "% positive comments: 12.761532658258092\n",
      "% negative comments: 22.12217283666557\n"
     ]
    }
   ],
   "source": [
    "print(\"r/politics comments : \"+str(polSRCmtCount))\n",
    "print(topicCDict)\n",
    "keysC = topicCDict.keys()\n",
    "valuesC = topicCDict.values()\n",
    "print(\"Total comments: \"+str(cmtCount))\n",
    "print(\"Positive comments: \"+str(posCount))\n",
    "print(\"Negative comments: \"+str(negCount))\n",
    "print(\"Neutral comments: \"+str(neuCount))\n",
    "print(\"% positive comments: \"+str((posCount/cmtCount)*100))\n",
    "print(\"% negative comments: \"+str((negCount/cmtCount)*100))"
   ]
  },
  {
   "cell_type": "code",
   "execution_count": null,
   "id": "1dc7cdd2",
   "metadata": {},
   "outputs": [],
   "source": [
    "#Plotting the popular topics discussed on subreddits"
   ]
  },
  {
   "cell_type": "code",
   "execution_count": 8,
   "id": "6bd8ca00",
   "metadata": {},
   "outputs": [],
   "source": [
    "from matplotlib.pyplot import figure\n",
    "import matplotlib.pyplot as plt"
   ]
  },
  {
   "cell_type": "code",
   "execution_count": 9,
   "id": "ac137b11",
   "metadata": {
    "scrolled": false
   },
   "outputs": [
    {
     "data": {
      "image/png": "[encoded data removed]",
      "text/plain": [
       "<Figure size 980x560 with 1 Axes>"
      ]
     },
     "metadata": {
      "needs_background": "light"
     },
     "output_type": "display_data"
    }
   ],
   "source": [
    "figure(figsize=(14,8), dpi = 70)\n",
    "plt.title(\"Figure 1: Popular political topics on subreddits\")\n",
    "plt.xlabel(\"Topics\")\n",
    "plt.ylabel(\"Number of posts\")\n",
    "plt.xticks(rotation = 90)\n",
    "graph1 = plt.bar(keysP,valuesP)"
   ]
  },
  {
   "cell_type": "code",
   "execution_count": 10,
   "id": "99fb918e",
   "metadata": {},
   "outputs": [
    {
     "data": {
      "image/png": "[encoded data removed]",
      "text/plain": [
       "<Figure size 980x560 with 1 Axes>"
      ]
     },
     "metadata": {
      "needs_background": "light"
     },
     "output_type": "display_data"
    }
   ],
   "source": [
    "figure(figsize=(14,8), dpi = 70)\n",
    "plt.title(\"Figure 1: Popular political topics on subreddits' comments\")\n",
    "plt.xlabel(\"Topics\")\n",
    "plt.ylabel(\"Number of comments\")\n",
    "plt.xticks(rotation = 90)\n",
    "graph1 = plt.bar(keysC,valuesC)"
   ]
  },
  {
   "cell_type": "code",
   "execution_count": 11,
   "id": "b69cca39",
   "metadata": {
    "scrolled": true
   },
   "outputs": [
    {
     "name": "stdout",
     "output_type": "stream",
     "text": [
      "Trump data = 11.051902376638601%\n",
      "Biden data = 7.617499733560695%\n",
      "Election data = 11.483534050943195%\n"
     ]
    }
   ],
   "source": [
    "print (\"Trump data = \"+str(topicPDict[\"trumpPost\"]/postCount*100)+\"%\")\n",
    "print (\"Biden data = \"+str(topicPDict[\"bidenPost\"]/postCount*100)+\"%\")\n",
    "print (\"Election data = \"+str(topicPDict[\"electionPost\"]/postCount*100)+\"%\")"
   ]
  },
  {
   "cell_type": "code",
   "execution_count": 12,
   "id": "9ed5f59e",
   "metadata": {},
   "outputs": [
    {
     "name": "stdout",
     "output_type": "stream",
     "text": [
      "Trump data = 6.432757594596448%\n",
      "Biden data = 2.4159345485277623%\n",
      "Election data = 10.155332202062393%\n"
     ]
    }
   ],
   "source": [
    "print (\"Trump data = \"+str(topicCDict[\"trumpCmt\"]/cmtCount*100)+\"%\")\n",
    "print (\"Biden data = \"+str(topicCDict[\"bidenCmt\"]/cmtCount*100)+\"%\")\n",
    "print (\"Election data = \"+str(topicCDict[\"electionCmt\"]/cmtCount*100)+\"%\")"
   ]
  },
  {
   "cell_type": "code",
   "execution_count": null,
   "id": "ead4a527",
   "metadata": {},
   "outputs": [],
   "source": [
    "#Most popular news sources on subreddits"
   ]
  },
  {
   "cell_type": "code",
   "execution_count": 13,
   "id": "25a3bf7c",
   "metadata": {},
   "outputs": [],
   "source": [
    "urlList = []\n",
    "for posturl in dataP:\n",
    "    templine = posturl['url']\n",
    "    urlline = str(templine).lower()\n",
    "    if (urlparse(urlline).netloc) != 'www.reddit.com' and (urlparse(urlline).netloc) != 'i.redd.it':\n",
    "        urlList.append(urlparse(urlline).netloc)\n",
    "\n",
    "c = Counter(urlList)\n",
    "urlDict = dict(c.most_common(10))\n"
   ]
  },
  {
   "cell_type": "code",
   "execution_count": 14,
   "id": "be60faac",
   "metadata": {
    "scrolled": true
   },
   "outputs": [
    {
     "name": "stdout",
     "output_type": "stream",
     "text": [
      "{'www.reuters.com': 1313, 'www.tampafp.com': 1104, 'apnews.com': 975, 'www.theguardian.com': 906, 'www.cnn.com': 899, 'www.washingtonpost.com': 866, 'www.foxnews.com': 814, 'thehill.com': 752, 'www.nytimes.com': 679, 'nypost.com': 608}\n"
     ]
    }
   ],
   "source": [
    "print(urlDict)"
   ]
  },
  {
   "cell_type": "code",
   "execution_count": 15,
   "id": "be452ba6",
   "metadata": {},
   "outputs": [
    {
     "data": {
      "image/png": "[encoded data removed]",
      "text/plain": [
       "<Figure size 700x420 with 1 Axes>"
      ]
     },
     "metadata": {
      "needs_background": "light"
     },
     "output_type": "display_data"
    }
   ],
   "source": [
    "urlkeys = urlDict.keys()\n",
    "urlvalues = urlDict.values()\n",
    "figure(figsize=(10,6), dpi = 70)\n",
    "plt.title(\"Figure 2: Top 10 popular news sources and websites on political subreddits\")\n",
    "plt.xlabel(\"News sources and websites\")\n",
    "plt.ylabel(\"Number of posts\")\n",
    "plt.xticks(rotation = 90)\n",
    "urlgraph = plt.bar(urlkeys,urlvalues)"
   ]
  },
  {
   "cell_type": "code",
   "execution_count": null,
   "id": "393884d2",
   "metadata": {},
   "outputs": [],
   "source": [
    "#Number of posts per day on r/politics"
   ]
  },
  {
   "cell_type": "code",
   "execution_count": 16,
   "id": "f1f13bf8",
   "metadata": {
    "scrolled": true
   },
   "outputs": [
    {
     "name": "stdout",
     "output_type": "stream",
     "text": [
      "{'2022-10-25': 68, '2022-10-26': 172, '2022-10-27': 158, '2022-10-28': 133, '2022-10-29': 85, '2022-10-30': 85, '2022-10-31': 160, '2022-11-01': 195, '2022-11-02': 198, '2022-11-03': 193, '2022-11-04': 185, '2022-11-05': 110, '2022-11-06': 105, '2022-11-07': 205, '2022-11-08': 192, '2022-11-09': 342, '2022-11-10': 237, '2022-11-11': 204, '2022-11-12': 144, '2022-11-13': 139, '2022-11-14': 226, '2022-11-15': 203, '2022-11-16': 189, '2022-11-17': 187, '2022-11-18': 146, '2022-11-19': 94, '2022-11-20': 92, '2022-11-21': 149, '2022-11-22': 156, '2022-11-23': 149, '2022-11-24': 54, '2022-11-25': 67, '2022-11-26': 57, '2022-11-27': 58, '2022-11-28': 162, '2022-11-29': 185, '2022-11-30': 166, '2022-12-01': 175, '2022-12-02': 146, '2022-12-03': 83, '2022-12-04': 76, '2022-12-05': 151, '2022-12-06': 143, '2022-12-07': 127}\n"
     ]
    }
   ],
   "source": [
    "dateList = []\n",
    "for postdate in dataP:\n",
    "    tempDate = \"\"\n",
    "    if postdate['subreddit'] == \"r/politics\":\n",
    "        postDate = postdate['created_utc']\n",
    "        #print(postDate)\n",
    "        datetime = dt.datetime.fromtimestamp(postDate, gettz(\"America/New_York\"))\n",
    "        dateList.append((datetime.isoformat(timespec='hours'))[:-9])\n",
    "\n",
    "\n",
    "dateList.sort(key=lambda date: datetime.strptime(date,\"%Y-%m-%d\"))\n",
    "   \n",
    "c2 = Counter(dateList)\n",
    "dateDict = dict(c2.items())\n",
    "print(dateDict)"
   ]
  },
  {
   "cell_type": "code",
   "execution_count": 17,
   "id": "293c1f2b",
   "metadata": {
    "scrolled": false
   },
   "outputs": [
    {
     "data": {
      "image/png": "[encoded data removed]",
      "text/plain": [
       "<Figure size 1000x600 with 1 Axes>"
      ]
     },
     "metadata": {
      "needs_background": "light"
     },
     "output_type": "display_data"
    }
   ],
   "source": [
    "datekeys = dateDict.keys()\n",
    "datevalues = dateDict.values()\n",
    "figure(figsize=(10,6), dpi = 100)\n",
    "plt.title(\"Figure 3: Posts per day on r/politics from 10/25/2022 to 12/7/2022\")\n",
    "plt.xlabel(\"Dates\")\n",
    "plt.ylabel(\"Number of posts\")\n",
    "plt.xticks(rotation = 90)\n",
    "urlgraph = plt.bar(datekeys,datevalues)"
   ]
  },
  {
   "cell_type": "code",
   "execution_count": 18,
   "id": "2ce92ba3",
   "metadata": {},
   "outputs": [
    {
     "name": "stdout",
     "output_type": "stream",
     "text": [
      "{'2022-10-25': 171, '2022-10-26': 1349, '2022-10-27': 1175, '2022-10-28': 1373, '2022-10-29': 1575, '2022-10-30': 1195, '2022-10-31': 1925, '2022-11-01': 4789, '2022-11-02': 5474, '2022-11-03': 5337, '2022-11-04': 4559, '2022-11-05': 3077, '2022-11-06': 3523, '2022-11-07': 5604, '2022-11-08': 7259, '2022-11-09': 12256, '2022-11-10': 8067, '2022-11-11': 7181, '2022-11-12': 3816, '2022-11-13': 3693, '2022-11-14': 7008, '2022-11-15': 6133, '2022-11-16': 5583, '2022-11-17': 5301, '2022-11-18': 4848, '2022-11-19': 3176, '2022-11-20': 3616, '2022-11-21': 5348, '2022-11-22': 2874, '2022-11-23': 1233, '2022-11-24': 1056, '2022-11-25': 1913, '2022-11-26': 2439, '2022-11-27': 2969, '2022-11-28': 4448, '2022-11-29': 4232, '2022-11-30': 4118, '2022-12-01': 3889, '2022-12-02': 2644, '2022-12-03': 2401, '2022-12-04': 2981, '2022-12-05': 4156, '2022-12-06': 3560, '2022-12-07': 3332}\n"
     ]
    }
   ],
   "source": [
    "dateList = []\n",
    "for postdate in dataC:\n",
    "    tempDate = \"\"\n",
    "    if postdate['subreddit'] == \"r/politics\":\n",
    "        postDate = postdate['created_utc']\n",
    "        #print(postDate)\n",
    "        datetime = dt.datetime.fromtimestamp(postDate, gettz(\"America/New_York\"))\n",
    "        dateList.append((datetime.isoformat(timespec='hours'))[:-9])\n",
    "\n",
    "\n",
    "dateList.sort(key=lambda date: datetime.strptime(date,\"%Y-%m-%d\"))\n",
    "   \n",
    "c2 = Counter(dateList)\n",
    "dateDict = dict(c2.items())\n",
    "print(dateDict)"
   ]
  },
  {
   "cell_type": "code",
   "execution_count": null,
   "id": "e7f402c8",
   "metadata": {},
   "outputs": [],
   "source": [
    "#Plot number of comments per day"
   ]
  },
  {
   "cell_type": "code",
   "execution_count": 19,
   "id": "e3bdc567",
   "metadata": {
    "scrolled": false
   },
   "outputs": [
    {
     "data": {
      "image/png": "[encoded data removed]",
      "text/plain": [
       "<Figure size 1000x600 with 1 Axes>"
      ]
     },
     "metadata": {
      "needs_background": "light"
     },
     "output_type": "display_data"
    }
   ],
   "source": [
    "datekeys = dateDict.keys()\n",
    "datevalues = dateDict.values()\n",
    "figure(figsize=(10,6), dpi = 100)\n",
    "plt.title(\"Figure 3: Comments per day on r/politics from 10/25/2022 to 12/7/2022\")\n",
    "plt.xlabel(\"Dates\")\n",
    "plt.ylabel(\"Number of comments\")\n",
    "plt.xticks(rotation = 90)\n",
    "urlgraph = plt.bar(datekeys,datevalues)"
   ]
  },
  {
   "cell_type": "code",
   "execution_count": null,
   "id": "aedc92b3",
   "metadata": {},
   "outputs": [],
   "source": [
    "#Getting different emotion scores from posts and comments"
   ]
  },
  {
   "cell_type": "code",
   "execution_count": 20,
   "id": "afb25ebd",
   "metadata": {},
   "outputs": [
    {
     "name": "stdout",
     "output_type": "stream",
     "text": [
      "{'positive': 16569, 'negative': 18742, 'anger': 10169, 'anticipation': 8664, 'disgust': 4459, 'fear': 13268, 'joy': 4993, 'sadness': 8184, 'surprise': 4045, 'trust': 12760}\n",
      "101853\n",
      "positive = 16.267562074754792%\n",
      "negative = 18.401028933855653%\n",
      "anger = 9.983996544038957%\n",
      "anticipation = 8.506376837206563%\n",
      "disgust = 4.377877922103424%\n",
      "fear = 13.026616790865267%\n",
      "joy = 4.902162921072526%\n",
      "sadness = 8.035109422402876%\n",
      "surprise = 3.9714097768352428%\n",
      "trust = 12.527858776864697%\n"
     ]
    }
   ],
   "source": [
    "totalEmDict = {'positive':0,'negative':0,'anger':0,'anticipation':0,'disgust':0,'fear':0,'joy':0,'sadness':0,'surprise':0,'trust':0}\n",
    "totalEmCount = 0\n",
    "for nrPost in dataP:\n",
    "    tempNrDict = {}\n",
    "    nrText = nrPost['title']\n",
    "    text_object = NRCLex(nrText)\n",
    "    #print(nrText)\n",
    "    tempNrDict = text_object.raw_emotion_scores\n",
    "    tempNrKeys = tempNrDict.keys()\n",
    "    #tempNrValues = tempNrDict.values()\n",
    "    for i in tempNrKeys:\n",
    "        totalEmDict[i] += tempNrDict[i]\n",
    "print(totalEmDict)\n",
    "for tempTotalKey in totalEmDict:\n",
    "    totalEmCount += totalEmDict[tempTotalKey]\n",
    "print(totalEmCount)\n",
    "\n",
    "#print (\" = \"+str(totalEmDict[\"\"]/totalEmCount*100)+\"%\")\n",
    "for tempTotalKey in totalEmDict:\n",
    "    print(tempTotalKey+\" = \"+str(totalEmDict[tempTotalKey]/totalEmCount*100)+\"%\")\n",
    "    \n"
   ]
  },
  {
   "cell_type": "code",
   "execution_count": 21,
   "id": "6ac99f91",
   "metadata": {
    "scrolled": true
   },
   "outputs": [
    {
     "name": "stdout",
     "output_type": "stream",
     "text": [
      "{'positive': 579016, 'negative': 568991, 'anger': 301052, 'anticipation': 301109, 'disgust': 178286, 'fear': 330142, 'joy': 207750, 'sadness': 265811, 'surprise': 159558, 'trust': 399391}\n",
      "3392959\n",
      "positive = 17.065222420901637%\n",
      "negative = 16.769757606855844%\n",
      "anger = 8.872845206794423%\n",
      "anticipation = 8.87452515636057%\n",
      "disgust = 5.254587514909552%\n",
      "fear = 9.73020894151683%\n",
      "joy = 6.122974076609826%\n",
      "sadness = 7.834194282925316%\n",
      "surprise = 4.702620927632783%\n",
      "trust = 11.771170827587365%\n"
     ]
    }
   ],
   "source": [
    "for nrCmt in dataC:\n",
    "    tempNrDict = {}\n",
    "    nrText = nrCmt['comment_text']\n",
    "    text_object = NRCLex(nrText)\n",
    "    #print(nrText)\n",
    "    tempNrDict = text_object.raw_emotion_scores\n",
    "    tempNrKeys = tempNrDict.keys()\n",
    "    #tempNrValues = tempNrDict.values()\n",
    "    for i in tempNrKeys:\n",
    "        totalEmDict[i] += tempNrDict[i]\n",
    "print(totalEmDict)\n",
    "for tempTotalKey in totalEmDict:\n",
    "    totalEmCount += totalEmDict[tempTotalKey]\n",
    "print(totalEmCount)\n",
    "\n",
    "#print (\" = \"+str(totalEmDict[\"\"]/totalEmCount*100)+\"%\")\n",
    "for tempTotalKey in totalEmDict:\n",
    "    print(tempTotalKey+\" = \"+str(totalEmDict[tempTotalKey]/totalEmCount*100)+\"%\")"
   ]
  },
  {
   "cell_type": "code",
   "execution_count": null,
   "id": "701c0a28",
   "metadata": {},
   "outputs": [],
   "source": [
    "#Creating a list of just dates for future plotting of graphs with dates on X axis"
   ]
  },
  {
   "cell_type": "code",
   "execution_count": 22,
   "id": "af2879fa",
   "metadata": {},
   "outputs": [],
   "source": [
    "dateList = []\n",
    "for postdate in dataP:\n",
    "    tempDate = \"\"\n",
    "    if postdate['subreddit'] == \"r/politics\":\n",
    "        postDate = postdate['created_utc']\n",
    "        #print(postDate)\n",
    "        datetime = dt.datetime.fromtimestamp(postDate, gettz(\"America/New_York\"))\n",
    "        tempDate = datetime.isoformat(timespec='hours')[:-9]\n",
    "        if tempDate not in dateList:\n",
    "            dateList.append((datetime.isoformat(timespec='hours'))[:-9])\n",
    "\n",
    "\n",
    "dateList.sort(key=lambda date: datetime.strptime(date,\"%Y-%m-%d\"))\n",
    "#print(dateList)\n",
    "\n",
    "dateEmDict = dict.fromkeys(dateList, {'positive':0,'negative':0,'anger':0,'anticipation':0,'disgust':0,'fear':0,'joy':0,'sadness':0,'surprise':0,'trust':0})"
   ]
  },
  {
   "cell_type": "code",
   "execution_count": 23,
   "id": "528ca561",
   "metadata": {
    "scrolled": false
   },
   "outputs": [
    {
     "name": "stdout",
     "output_type": "stream",
     "text": [
      "['2022-10-25', '2022-10-26', '2022-10-27', '2022-10-28', '2022-10-29', '2022-10-30', '2022-10-31', '2022-11-01', '2022-11-02', '2022-11-03', '2022-11-04', '2022-11-05', '2022-11-06', '2022-11-07', '2022-11-08', '2022-11-09', '2022-11-10', '2022-11-11', '2022-11-12', '2022-11-13', '2022-11-14', '2022-11-15', '2022-11-16', '2022-11-17', '2022-11-18', '2022-11-19', '2022-11-20', '2022-11-21', '2022-11-22', '2022-11-23', '2022-11-24', '2022-11-25', '2022-11-26', '2022-11-27', '2022-11-28', '2022-11-29', '2022-11-30', '2022-12-01', '2022-12-02', '2022-12-03', '2022-12-04', '2022-12-05', '2022-12-06', '2022-12-07']\n"
     ]
    }
   ],
   "source": [
    "print(dateList)\n",
    "#print(dateEmDict)"
   ]
  },
  {
   "cell_type": "code",
   "execution_count": 24,
   "id": "f119c765",
   "metadata": {
    "scrolled": true
   },
   "outputs": [
    {
     "data": {
      "text/plain": [
       "'\\n#totalEmDict = {\\'positive\\':0,\\'negative\\':0,\\'anger\\':0,\\'anticipation\\':0,\\'disgust\\':0,\\'fear\\':0,\\'joy\\':0,\\'sadness\\':0,\\'surprise\\':0,\\'trust\\':0}\\n#totalEmCount = 0\\nfor dateNrPost in dataP:\\n    tempNrDict = {}\\n    nrText = dateNrPost[\\'title\\']\\n    #print(nrText)\\n    postUtcDate = dateNrPost[\\'created_utc\\']\\n    text_object = NRCLex(nrText)\\n    tempNrDict = text_object.raw_emotion_scores\\n\\n    datetime = dt.datetime.fromtimestamp(postUtcDate, gettz(\"America/New_York\"))\\n    tempEstDate = datetime.isoformat(timespec=\\'hours\\')[:-9]\\n    \\n    if tempEstDate in dateEmDict.keys():\\n        #print(\"tempEstDate = \"+tempEstDate)\\n        #print(\"Dict date = \"+str(dateEmDict[tempEstDate]))\\n        for i in tempNrDict.keys():\\n            dateEmDict[tempEstDate][i] += tempNrDict[i]\\n        print(nrText)\\n        print(\"tempEstDate = \"+tempEstDate)\\n        print(\"Dict date = \"+str(dateEmDict[tempEstDate]))\\n            \\n#print(dateEmDict)\\n'"
      ]
     },
     "execution_count": 24,
     "metadata": {},
     "output_type": "execute_result"
    }
   ],
   "source": [
    "\"\"\"\n",
    "#totalEmDict = {'positive':0,'negative':0,'anger':0,'anticipation':0,'disgust':0,'fear':0,'joy':0,'sadness':0,'surprise':0,'trust':0}\n",
    "#totalEmCount = 0\n",
    "for dateNrPost in dataP:\n",
    "    tempNrDict = {}\n",
    "    nrText = dateNrPost['title']\n",
    "    #print(nrText)\n",
    "    postUtcDate = dateNrPost['created_utc']\n",
    "    text_object = NRCLex(nrText)\n",
    "    tempNrDict = text_object.raw_emotion_scores\n",
    "\n",
    "    datetime = dt.datetime.fromtimestamp(postUtcDate, gettz(\"America/New_York\"))\n",
    "    tempEstDate = datetime.isoformat(timespec='hours')[:-9]\n",
    "    \n",
    "    if tempEstDate in dateEmDict.keys():\n",
    "        #print(\"tempEstDate = \"+tempEstDate)\n",
    "        #print(\"Dict date = \"+str(dateEmDict[tempEstDate]))\n",
    "        for i in tempNrDict.keys():\n",
    "            dateEmDict[tempEstDate][i] += tempNrDict[i]\n",
    "        print(nrText)\n",
    "        print(\"tempEstDate = \"+tempEstDate)\n",
    "        print(\"Dict date = \"+str(dateEmDict[tempEstDate]))\n",
    "            \n",
    "#print(dateEmDict)\n",
    "\"\"\""
   ]
  },
  {
   "cell_type": "code",
   "execution_count": 25,
   "id": "4dd15816",
   "metadata": {},
   "outputs": [
    {
     "data": {
      "text/plain": [
       "'for eachDate in dateList:\\n    pnDict = {}\\n    pText = \\'\\'\\n    puTime = 0\\n    for eachPost in dataP:\\n        pnDict = {}\\n        epEmDict = {}\\n        pText = eachPost[\\'title\\']\\n        puTime = eachPost[\\'created_utc\\']\\n        \\n        datetime = dt.datetime.fromtimestamp(puTime, gettz(\"America/New_York\"))\\n        peTime = datetime.isoformat(timespec=\\'hours\\')[:-9]\\n        \\n        if eachDate == peTime:\\n            pnObject = NRCLex(pText)\\n            pnDict = pnObject.raw_emotion_scores\\n            for eachEmotion in pnDict.keys():\\n                dateEmDict[eachDate][eachEmotion] += pnDict[eachEmotion]\\n\\nprint(dateEmDict)'"
      ]
     },
     "execution_count": 25,
     "metadata": {},
     "output_type": "execute_result"
    }
   ],
   "source": [
    "\"\"\"for eachDate in dateList:\n",
    "    pnDict = {}\n",
    "    pText = ''\n",
    "    puTime = 0\n",
    "    for eachPost in dataP:\n",
    "        pnDict = {}\n",
    "        epEmDict = {}\n",
    "        pText = eachPost['title']\n",
    "        puTime = eachPost['created_utc']\n",
    "        \n",
    "        datetime = dt.datetime.fromtimestamp(puTime, gettz(\"America/New_York\"))\n",
    "        peTime = datetime.isoformat(timespec='hours')[:-9]\n",
    "        \n",
    "        if eachDate == peTime:\n",
    "            pnObject = NRCLex(pText)\n",
    "            pnDict = pnObject.raw_emotion_scores\n",
    "            for eachEmotion in pnDict.keys():\n",
    "                dateEmDict[eachDate][eachEmotion] += pnDict[eachEmotion]\n",
    "\n",
    "print(dateEmDict)\"\"\""
   ]
  },
  {
   "cell_type": "code",
   "execution_count": null,
   "id": "abf3293d",
   "metadata": {
    "scrolled": true
   },
   "outputs": [],
   "source": []
  },
  {
   "cell_type": "code",
   "execution_count": 26,
   "id": "69d736ee",
   "metadata": {},
   "outputs": [],
   "source": [
    "#totalEmDict = {}\n",
    "eachDateDict = {}\n",
    "#eachPostDict = {'positive':0,'negative':0,'anger':0,'anticipation':0,'disgust':0,'fear':0,'joy':0,'sadness':0,'surprise':0,'trust':0}\n",
    "\n",
    "for eachDate in dateList:\n",
    "    tdDict = {'positive':0,'negative':0,'anger':0,'anticipation':0,'disgust':0,'fear':0,'joy':0,'sadness':0,'surprise':0,'trust':0}\n",
    "    for eachPost in dataP:\n",
    "        pnDict = {}\n",
    "        #eachPostDict = {'positive':0,'negative':0,'anger':0,'anticipation':0,'disgust':0,'fear':0,'joy':0,'sadness':0,'surprise':0,'trust':0}\n",
    "        pText = eachPost['title']\n",
    "        puTime = eachPost['created_utc']\n",
    "        \n",
    "        pnObject = NRCLex(pText)\n",
    "        pnDict = pnObject.raw_emotion_scores\n",
    "        \n",
    "        datetime = dt.datetime.fromtimestamp(puTime, gettz(\"America/New_York\"))\n",
    "        peTime = datetime.isoformat(timespec='hours')[:-9]\n",
    "        \n",
    "        if eachDate == peTime:\n",
    "            for i in pnDict.keys():\n",
    "                tdDict[i] += pnDict[i]        \n",
    "        \n",
    "    eachDateDict[eachDate] = tdDict\n",
    "        \n",
    "        \n",
    "    \n"
   ]
  },
  {
   "cell_type": "code",
   "execution_count": 27,
   "id": "8c4009db",
   "metadata": {},
   "outputs": [
    {
     "name": "stdout",
     "output_type": "stream",
     "text": [
      "{'2022-10-25': {'positive': 137, 'negative': 141, 'anger': 85, 'anticipation': 82, 'disgust': 29, 'fear': 87, 'joy': 43, 'sadness': 65, 'surprise': 45, 'trust': 109}, '2022-10-26': {'positive': 290, 'negative': 387, 'anger': 189, 'anticipation': 153, 'disgust': 99, 'fear': 277, 'joy': 76, 'sadness': 170, 'surprise': 68, 'trust': 243}, '2022-10-27': {'positive': 321, 'negative': 347, 'anger': 167, 'anticipation': 172, 'disgust': 79, 'fear': 257, 'joy': 91, 'sadness': 140, 'surprise': 64, 'trust': 263}, '2022-10-28': {'positive': 309, 'negative': 369, 'anger': 217, 'anticipation': 160, 'disgust': 80, 'fear': 295, 'joy': 104, 'sadness': 153, 'surprise': 79, 'trust': 254}, '2022-10-29': {'positive': 191, 'negative': 272, 'anger': 157, 'anticipation': 99, 'disgust': 59, 'fear': 200, 'joy': 59, 'sadness': 108, 'surprise': 61, 'trust': 119}, '2022-10-30': {'positive': 208, 'negative': 289, 'anger': 165, 'anticipation': 113, 'disgust': 71, 'fear': 211, 'joy': 65, 'sadness': 126, 'surprise': 55, 'trust': 168}, '2022-10-31': {'positive': 262, 'negative': 418, 'anger': 218, 'anticipation': 160, 'disgust': 108, 'fear': 290, 'joy': 82, 'sadness': 188, 'surprise': 84, 'trust': 180}, '2022-11-01': {'positive': 380, 'negative': 473, 'anger': 248, 'anticipation': 175, 'disgust': 81, 'fear': 337, 'joy': 123, 'sadness': 188, 'surprise': 95, 'trust': 317}, '2022-11-02': {'positive': 464, 'negative': 500, 'anger': 282, 'anticipation': 239, 'disgust': 107, 'fear': 385, 'joy': 146, 'sadness': 206, 'surprise': 122, 'trust': 310}, '2022-11-03': {'positive': 458, 'negative': 568, 'anger': 326, 'anticipation': 230, 'disgust': 125, 'fear': 428, 'joy': 125, 'sadness': 249, 'surprise': 145, 'trust': 304}, '2022-11-04': {'positive': 341, 'negative': 431, 'anger': 228, 'anticipation': 170, 'disgust': 110, 'fear': 319, 'joy': 91, 'sadness': 183, 'surprise': 83, 'trust': 248}, '2022-11-05': {'positive': 243, 'negative': 301, 'anger': 155, 'anticipation': 115, 'disgust': 71, 'fear': 203, 'joy': 55, 'sadness': 110, 'surprise': 53, 'trust': 180}, '2022-11-06': {'positive': 222, 'negative': 262, 'anger': 153, 'anticipation': 112, 'disgust': 58, 'fear': 176, 'joy': 64, 'sadness': 98, 'surprise': 54, 'trust': 168}, '2022-11-07': {'positive': 377, 'negative': 419, 'anger': 245, 'anticipation': 226, 'disgust': 103, 'fear': 286, 'joy': 110, 'sadness': 193, 'surprise': 94, 'trust': 301}, '2022-11-08': {'positive': 366, 'negative': 382, 'anger': 224, 'anticipation': 198, 'disgust': 76, 'fear': 275, 'joy': 103, 'sadness': 149, 'surprise': 106, 'trust': 290}, '2022-11-09': {'positive': 421, 'negative': 402, 'anger': 186, 'anticipation': 248, 'disgust': 98, 'fear': 260, 'joy': 163, 'sadness': 211, 'surprise': 102, 'trust': 321}, '2022-11-10': {'positive': 403, 'negative': 408, 'anger': 200, 'anticipation': 238, 'disgust': 101, 'fear': 263, 'joy': 135, 'sadness': 191, 'surprise': 100, 'trust': 288}, '2022-11-11': {'positive': 305, 'negative': 339, 'anger': 183, 'anticipation': 159, 'disgust': 78, 'fear': 227, 'joy': 86, 'sadness': 161, 'surprise': 88, 'trust': 211}, '2022-11-12': {'positive': 217, 'negative': 246, 'anger': 124, 'anticipation': 128, 'disgust': 64, 'fear': 148, 'joy': 78, 'sadness': 108, 'surprise': 56, 'trust': 161}, '2022-11-13': {'positive': 194, 'negative': 223, 'anger': 105, 'anticipation': 101, 'disgust': 50, 'fear': 147, 'joy': 61, 'sadness': 116, 'surprise': 57, 'trust': 147}, '2022-11-14': {'positive': 380, 'negative': 356, 'anger': 206, 'anticipation': 207, 'disgust': 94, 'fear': 264, 'joy': 122, 'sadness': 186, 'surprise': 89, 'trust': 301}, '2022-11-15': {'positive': 362, 'negative': 410, 'anger': 214, 'anticipation': 204, 'disgust': 72, 'fear': 306, 'joy': 107, 'sadness': 169, 'surprise': 86, 'trust': 275}, '2022-11-16': {'positive': 333, 'negative': 353, 'anger': 187, 'anticipation': 189, 'disgust': 71, 'fear': 259, 'joy': 119, 'sadness': 155, 'surprise': 106, 'trust': 258}, '2022-11-17': {'positive': 367, 'negative': 386, 'anger': 243, 'anticipation': 193, 'disgust': 99, 'fear': 281, 'joy': 115, 'sadness': 190, 'surprise': 75, 'trust': 292}, '2022-11-18': {'positive': 286, 'negative': 297, 'anger': 179, 'anticipation': 129, 'disgust': 63, 'fear': 232, 'joy': 78, 'sadness': 146, 'surprise': 84, 'trust': 197}, '2022-11-19': {'positive': 205, 'negative': 219, 'anger': 122, 'anticipation': 114, 'disgust': 45, 'fear': 149, 'joy': 72, 'sadness': 95, 'surprise': 49, 'trust': 173}, '2022-11-20': {'positive': 172, 'negative': 199, 'anger': 134, 'anticipation': 88, 'disgust': 53, 'fear': 147, 'joy': 61, 'sadness': 78, 'surprise': 51, 'trust': 162}, '2022-11-21': {'positive': 291, 'negative': 383, 'anger': 217, 'anticipation': 154, 'disgust': 86, 'fear': 273, 'joy': 93, 'sadness': 158, 'surprise': 78, 'trust': 228}, '2022-11-22': {'positive': 284, 'negative': 394, 'anger': 206, 'anticipation': 131, 'disgust': 95, 'fear': 269, 'joy': 75, 'sadness': 162, 'surprise': 63, 'trust': 226}, '2022-11-23': {'positive': 262, 'negative': 389, 'anger': 230, 'anticipation': 166, 'disgust': 86, 'fear': 319, 'joy': 82, 'sadness': 168, 'surprise': 73, 'trust': 202}, '2022-11-24': {'positive': 182, 'negative': 211, 'anger': 118, 'anticipation': 88, 'disgust': 59, 'fear': 162, 'joy': 65, 'sadness': 91, 'surprise': 53, 'trust': 134}, '2022-11-25': {'positive': 201, 'negative': 247, 'anger': 141, 'anticipation': 101, 'disgust': 63, 'fear': 181, 'joy': 64, 'sadness': 96, 'surprise': 51, 'trust': 129}, '2022-11-26': {'positive': 148, 'negative': 195, 'anger': 109, 'anticipation': 79, 'disgust': 49, 'fear': 142, 'joy': 49, 'sadness': 77, 'surprise': 41, 'trust': 118}, '2022-11-27': {'positive': 150, 'negative': 131, 'anger': 58, 'anticipation': 81, 'disgust': 26, 'fear': 90, 'joy': 43, 'sadness': 36, 'surprise': 34, 'trust': 106}, '2022-11-28': {'positive': 240, 'negative': 359, 'anger': 182, 'anticipation': 151, 'disgust': 87, 'fear': 228, 'joy': 75, 'sadness': 132, 'surprise': 59, 'trust': 223}, '2022-11-29': {'positive': 334, 'negative': 352, 'anger': 190, 'anticipation': 173, 'disgust': 77, 'fear': 254, 'joy': 106, 'sadness': 145, 'surprise': 79, 'trust': 286}, '2022-11-30': {'positive': 327, 'negative': 413, 'anger': 248, 'anticipation': 181, 'disgust': 105, 'fear': 287, 'joy': 100, 'sadness': 181, 'surprise': 90, 'trust': 270}, '2022-12-01': {'positive': 339, 'negative': 398, 'anger': 242, 'anticipation': 197, 'disgust': 92, 'fear': 298, 'joy': 103, 'sadness': 198, 'surprise': 86, 'trust': 264}, '2022-12-02': {'positive': 258, 'negative': 291, 'anger': 169, 'anticipation': 132, 'disgust': 89, 'fear': 208, 'joy': 87, 'sadness': 122, 'surprise': 56, 'trust': 182}, '2022-12-03': {'positive': 125, 'negative': 201, 'anger': 109, 'anticipation': 81, 'disgust': 40, 'fear': 134, 'joy': 33, 'sadness': 82, 'surprise': 25, 'trust': 134}, '2022-12-04': {'positive': 184, 'negative': 191, 'anger': 109, 'anticipation': 68, 'disgust': 57, 'fear': 171, 'joy': 52, 'sadness': 88, 'surprise': 45, 'trust': 140}, '2022-12-05': {'positive': 181, 'negative': 227, 'anger': 121, 'anticipation': 106, 'disgust': 47, 'fear': 182, 'joy': 52, 'sadness': 85, 'surprise': 53, 'trust': 154}, '2022-12-06': {'positive': 74, 'negative': 56, 'anger': 34, 'anticipation': 33, 'disgust': 16, 'fear': 46, 'joy': 19, 'sadness': 22, 'surprise': 12, 'trust': 59}, '2022-12-07': {'positive': 70, 'negative': 65, 'anger': 44, 'anticipation': 38, 'disgust': 10, 'fear': 61, 'joy': 19, 'sadness': 36, 'surprise': 10, 'trust': 53}}\n"
     ]
    }
   ],
   "source": [
    "print(eachDateDict)"
   ]
  },
  {
   "cell_type": "code",
   "execution_count": null,
   "id": "62457b37",
   "metadata": {},
   "outputs": [],
   "source": [
    "#Block of code for comments emotion analysis"
   ]
  },
  {
   "cell_type": "code",
   "execution_count": 28,
   "id": "1513d87a",
   "metadata": {},
   "outputs": [],
   "source": [
    "eachCDateDict = {}"
   ]
  },
  {
   "cell_type": "code",
   "execution_count": 29,
   "id": "7f01e0eb",
   "metadata": {},
   "outputs": [],
   "source": [
    "#totalEmDict = {}\n",
    "eachCDateDict = {}\n",
    "#eachPostDict = {'positive':0,'negative':0,'anger':0,'anticipation':0,'disgust':0,'fear':0,'joy':0,'sadness':0,'surprise':0,'trust':0}\n",
    "\n",
    "for eachDate in dateList:\n",
    "    tdDict = {'positive':0,'negative':0,'anger':0,'anticipation':0,'disgust':0,'fear':0,'joy':0,'sadness':0,'surprise':0,'trust':0}\n",
    "    for eachComment in dataC:\n",
    "        pnDict = {}\n",
    "        #eachPostDict = {'positive':0,'negative':0,'anger':0,'anticipation':0,'disgust':0,'fear':0,'joy':0,'sadness':0,'surprise':0,'trust':0}\n",
    "        pText = eachComment['comment_text']\n",
    "        puTime = eachComment['created_utc']\n",
    "        \n",
    "        pnObject = NRCLex(pText)\n",
    "        pnDict = pnObject.raw_emotion_scores\n",
    "        \n",
    "        datetime = dt.datetime.fromtimestamp(puTime, gettz(\"America/New_York\"))\n",
    "        peTime = datetime.isoformat(timespec='hours')[:-9]\n",
    "        \n",
    "        if eachDate == peTime:\n",
    "            for i in pnDict.keys():\n",
    "                tdDict[i] += pnDict[i]        \n",
    "        \n",
    "    eachCDateDict[eachDate] = tdDict"
   ]
  },
  {
   "cell_type": "code",
   "execution_count": 30,
   "id": "9a0682ec",
   "metadata": {
    "scrolled": false
   },
   "outputs": [
    {
     "name": "stdout",
     "output_type": "stream",
     "text": [
      "{'2022-10-25': {'positive': 3622, 'negative': 3646, 'anger': 1957, 'anticipation': 1998, 'disgust': 1169, 'fear': 2203, 'joy': 1279, 'sadness': 1852, 'surprise': 1021, 'trust': 2431}, '2022-10-26': {'positive': 6340, 'negative': 6275, 'anger': 3335, 'anticipation': 3298, 'disgust': 2074, 'fear': 3820, 'joy': 2187, 'sadness': 3169, 'surprise': 1720, 'trust': 4350}, '2022-10-27': {'positive': 8957, 'negative': 8811, 'anger': 4579, 'anticipation': 4589, 'disgust': 2762, 'fear': 5244, 'joy': 3254, 'sadness': 4185, 'surprise': 2398, 'trust': 6372}, '2022-10-28': {'positive': 8554, 'negative': 9149, 'anger': 5143, 'anticipation': 4535, 'disgust': 2982, 'fear': 5784, 'joy': 3002, 'sadness': 4209, 'surprise': 2407, 'trust': 5889}, '2022-10-29': {'positive': 8218, 'negative': 9095, 'anger': 5076, 'anticipation': 4220, 'disgust': 2899, 'fear': 5604, 'joy': 2988, 'sadness': 4127, 'surprise': 2362, 'trust': 5596}, '2022-10-30': {'positive': 8221, 'negative': 8457, 'anger': 4616, 'anticipation': 4193, 'disgust': 2627, 'fear': 5194, 'joy': 2993, 'sadness': 4033, 'surprise': 2378, 'trust': 5598}, '2022-10-31': {'positive': 10363, 'negative': 11119, 'anger': 5813, 'anticipation': 5189, 'disgust': 3439, 'fear': 6767, 'joy': 3507, 'sadness': 5102, 'surprise': 2747, 'trust': 7125}, '2022-11-01': {'positive': 15687, 'negative': 16595, 'anger': 9199, 'anticipation': 8379, 'disgust': 5349, 'fear': 10188, 'joy': 5454, 'sadness': 7854, 'surprise': 4485, 'trust': 10666}, '2022-11-02': {'positive': 19252, 'negative': 19528, 'anger': 10585, 'anticipation': 9842, 'disgust': 5915, 'fear': 11971, 'joy': 6666, 'sadness': 9165, 'surprise': 5259, 'trust': 13121}, '2022-11-03': {'positive': 18523, 'negative': 18924, 'anger': 10074, 'anticipation': 9477, 'disgust': 5791, 'fear': 11021, 'joy': 6680, 'sadness': 8718, 'surprise': 5190, 'trust': 12350}, '2022-11-04': {'positive': 16024, 'negative': 16457, 'anger': 8656, 'anticipation': 8453, 'disgust': 5003, 'fear': 9407, 'joy': 5810, 'sadness': 7419, 'surprise': 4563, 'trust': 11181}, '2022-11-05': {'positive': 8661, 'negative': 8408, 'anger': 4493, 'anticipation': 4331, 'disgust': 2620, 'fear': 4746, 'joy': 3236, 'sadness': 3829, 'surprise': 2348, 'trust': 6038}, '2022-11-06': {'positive': 10760, 'negative': 10521, 'anger': 5601, 'anticipation': 5589, 'disgust': 3344, 'fear': 6029, 'joy': 3857, 'sadness': 4975, 'surprise': 3048, 'trust': 7445}, '2022-11-07': {'positive': 16099, 'negative': 15621, 'anger': 8283, 'anticipation': 8718, 'disgust': 4692, 'fear': 8252, 'joy': 6099, 'sadness': 7202, 'surprise': 4752, 'trust': 11447}, '2022-11-08': {'positive': 21040, 'negative': 19569, 'anger': 10907, 'anticipation': 11720, 'disgust': 6085, 'fear': 10655, 'joy': 8196, 'sadness': 9488, 'surprise': 6528, 'trust': 15126}, '2022-11-09': {'positive': 28742, 'negative': 27106, 'anger': 13982, 'anticipation': 15705, 'disgust': 9246, 'fear': 14307, 'joy': 11334, 'sadness': 14345, 'surprise': 9178, 'trust': 19907}, '2022-11-10': {'positive': 22613, 'negative': 21028, 'anger': 10759, 'anticipation': 12271, 'disgust': 6783, 'fear': 11055, 'joy': 8905, 'sadness': 10365, 'surprise': 6718, 'trust': 15345}, '2022-11-11': {'positive': 19484, 'negative': 17760, 'anger': 9382, 'anticipation': 10411, 'disgust': 5728, 'fear': 9745, 'joy': 7522, 'sadness': 8908, 'surprise': 5714, 'trust': 13145}, '2022-11-12': {'positive': 12025, 'negative': 10959, 'anger': 5743, 'anticipation': 6352, 'disgust': 3655, 'fear': 5957, 'joy': 4531, 'sadness': 5481, 'surprise': 3483, 'trust': 8326}, '2022-11-13': {'positive': 10552, 'negative': 10130, 'anger': 5127, 'anticipation': 5608, 'disgust': 3367, 'fear': 5468, 'joy': 3925, 'sadness': 4984, 'surprise': 3205, 'trust': 7070}, '2022-11-14': {'positive': 17572, 'negative': 16512, 'anger': 8635, 'anticipation': 9342, 'disgust': 5325, 'fear': 9154, 'joy': 6548, 'sadness': 7980, 'surprise': 5156, 'trust': 12177}, '2022-11-15': {'positive': 17706, 'negative': 17488, 'anger': 9081, 'anticipation': 9743, 'disgust': 5260, 'fear': 10181, 'joy': 6410, 'sadness': 8104, 'surprise': 5301, 'trust': 11625}, '2022-11-16': {'positive': 16078, 'negative': 16150, 'anger': 8423, 'anticipation': 8778, 'disgust': 5103, 'fear': 9719, 'joy': 5821, 'sadness': 7665, 'surprise': 4873, 'trust': 11015}, '2022-11-17': {'positive': 15872, 'negative': 14423, 'anger': 7473, 'anticipation': 8468, 'disgust': 4666, 'fear': 8288, 'joy': 5721, 'sadness': 6621, 'surprise': 4339, 'trust': 10881}, '2022-11-18': {'positive': 14485, 'negative': 13800, 'anger': 7159, 'anticipation': 7565, 'disgust': 4510, 'fear': 7944, 'joy': 5343, 'sadness': 6225, 'surprise': 3875, 'trust': 10092}, '2022-11-19': {'positive': 8907, 'negative': 8543, 'anger': 4576, 'anticipation': 4840, 'disgust': 2946, 'fear': 4740, 'joy': 3493, 'sadness': 3869, 'surprise': 2426, 'trust': 6119}, '2022-11-20': {'positive': 9689, 'negative': 9571, 'anger': 5279, 'anticipation': 4879, 'disgust': 3213, 'fear': 5719, 'joy': 3547, 'sadness': 4347, 'surprise': 2741, 'trust': 6772}, '2022-11-21': {'positive': 13707, 'negative': 14639, 'anger': 7996, 'anticipation': 7205, 'disgust': 4732, 'fear': 8980, 'joy': 4836, 'sadness': 6620, 'surprise': 3861, 'trust': 9609}, '2022-11-22': {'positive': 10779, 'negative': 11220, 'anger': 6032, 'anticipation': 5603, 'disgust': 3561, 'fear': 6569, 'joy': 3794, 'sadness': 5023, 'surprise': 2880, 'trust': 7439}, '2022-11-23': {'positive': 6613, 'negative': 7348, 'anger': 4145, 'anticipation': 3494, 'disgust': 2414, 'fear': 4535, 'joy': 2372, 'sadness': 3500, 'surprise': 1927, 'trust': 4536}, '2022-11-24': {'positive': 4865, 'negative': 5212, 'anger': 2857, 'anticipation': 2365, 'disgust': 1834, 'fear': 3126, 'joy': 1785, 'sadness': 2377, 'surprise': 1268, 'trust': 3229}, '2022-11-25': {'positive': 5995, 'negative': 6074, 'anger': 3286, 'anticipation': 3025, 'disgust': 1859, 'fear': 3567, 'joy': 2219, 'sadness': 2484, 'surprise': 1528, 'trust': 4117}, '2022-11-26': {'positive': 7472, 'negative': 7274, 'anger': 3854, 'anticipation': 3816, 'disgust': 2280, 'fear': 4168, 'joy': 2733, 'sadness': 3265, 'surprise': 2004, 'trust': 5088}, '2022-11-27': {'positive': 8297, 'negative': 8035, 'anger': 4043, 'anticipation': 4141, 'disgust': 2523, 'fear': 4678, 'joy': 2962, 'sadness': 3610, 'surprise': 2241, 'trust': 5460}, '2022-11-28': {'positive': 12976, 'negative': 13174, 'anger': 6877, 'anticipation': 6789, 'disgust': 4059, 'fear': 7694, 'joy': 4599, 'sadness': 5819, 'surprise': 3330, 'trust': 9163}, '2022-11-29': {'positive': 12481, 'negative': 12116, 'anger': 6420, 'anticipation': 6254, 'disgust': 3753, 'fear': 6900, 'joy': 4522, 'sadness': 5430, 'surprise': 3134, 'trust': 8706}, '2022-11-30': {'positive': 12529, 'negative': 12953, 'anger': 6682, 'anticipation': 6602, 'disgust': 4211, 'fear': 7524, 'joy': 4356, 'sadness': 6145, 'surprise': 3239, 'trust': 8868}, '2022-12-01': {'positive': 12929, 'negative': 13258, 'anger': 6881, 'anticipation': 7004, 'disgust': 4177, 'fear': 7211, 'joy': 4695, 'sadness': 6221, 'surprise': 3476, 'trust': 9005}, '2022-12-02': {'positive': 10479, 'negative': 10621, 'anger': 5538, 'anticipation': 5337, 'disgust': 3589, 'fear': 5932, 'joy': 3539, 'sadness': 4876, 'surprise': 2645, 'trust': 7042}, '2022-12-03': {'positive': 6914, 'negative': 7127, 'anger': 3785, 'anticipation': 3612, 'disgust': 2309, 'fear': 4084, 'joy': 2530, 'sadness': 3379, 'surprise': 1814, 'trust': 4815}, '2022-12-04': {'positive': 8219, 'negative': 8164, 'anger': 4223, 'anticipation': 4041, 'disgust': 2543, 'fear': 4810, 'joy': 2670, 'sadness': 3698, 'surprise': 2126, 'trust': 5742}, '2022-12-05': {'positive': 10655, 'negative': 10564, 'anger': 5681, 'anticipation': 5261, 'disgust': 3439, 'fear': 6216, 'joy': 3567, 'sadness': 4723, 'surprise': 2757, 'trust': 7475}, '2022-12-06': {'positive': 4363, 'negative': 4267, 'anger': 2283, 'anticipation': 2275, 'disgust': 1355, 'fear': 2217, 'joy': 1555, 'sadness': 1925, 'surprise': 1079, 'trust': 3173}, '2022-12-07': {'positive': 4053, 'negative': 3982, 'anger': 2057, 'anticipation': 2043, 'disgust': 1254, 'fear': 2235, 'joy': 1405, 'sadness': 1728, 'surprise': 1055, 'trust': 2968}}\n"
     ]
    }
   ],
   "source": [
    "print(eachCDateDict)"
   ]
  },
  {
   "cell_type": "code",
   "execution_count": null,
   "id": "9d8a258b",
   "metadata": {},
   "outputs": [],
   "source": [
    "#Converting nested dictionary to lists for plots"
   ]
  },
  {
   "cell_type": "code",
   "execution_count": 83,
   "id": "5c344933",
   "metadata": {},
   "outputs": [],
   "source": [
    "positive,negative,anger,anticipation,disgust,fear,joy,sadness,surprise,trust = [],[],[],[],[],[],[],[],[],[]\n",
    "allpostpositive,allpostnegative = [],[]"
   ]
  },
  {
   "cell_type": "code",
   "execution_count": 84,
   "id": "e67480de",
   "metadata": {},
   "outputs": [],
   "source": [
    "for i in eachDateDict:\n",
    "    #print(i)\n",
    "    for j in eachDateDict[i].keys():\n",
    "        if j == 'positive':\n",
    "            positive.append(eachDateDict[i][j]+eachCDateDict[i][j])\n",
    "            allpostpositive.append(eachDateDict[i][j])\n",
    "        if j == 'negative':\n",
    "            negative.append(eachDateDict[i][j]+eachCDateDict[i][j])\n",
    "            allpostnegative.append(eachDateDict[i][j])\n",
    "        if j == 'anger':\n",
    "            anger.append(eachDateDict[i][j]+eachCDateDict[i][j])\n",
    "        if j == 'anticipation':\n",
    "            anticipation.append(eachDateDict[i][j]+eachCDateDict[i][j])\n",
    "        if j == 'disgust':\n",
    "            disgust.append(eachDateDict[i][j]+eachCDateDict[i][j])\n",
    "        if j == 'fear':\n",
    "            fear.append(eachDateDict[i][j]+eachCDateDict[i][j])\n",
    "        if j == 'joy':\n",
    "            joy.append(eachDateDict[i][j]+eachCDateDict[i][j])\n",
    "        if j == 'sadness':\n",
    "            sadness.append(eachDateDict[i][j]+eachCDateDict[i][j])\n",
    "        if j == 'surprise':\n",
    "            surprise.append(eachDateDict[i][j]+eachCDateDict[i][j])\n",
    "        if j == 'trust':\n",
    "            trust.append(eachDateDict[i][j]+eachCDateDict[i][j])"
   ]
  },
  {
   "cell_type": "code",
   "execution_count": 85,
   "id": "94acc13f",
   "metadata": {},
   "outputs": [
    {
     "data": {
      "text/plain": [
       "\"print('negative '+str(sum(negative)))\\nprint('anger '+str(sum(anger)))\\nprint('anticipation '+str(sum(anticipation)))\\nprint('disgust '+str(sum(disgust)))\\nprint('fear '+str(sum(fear)))\\nprint('joy '+str(sum(joy)))\\nprint('sadness '+str(sum(sadness)))\\nprint('surprise '+str(sum(surprise)))\\nprint('trust '+str(sum(trust)))\""
      ]
     },
     "execution_count": 85,
     "metadata": {},
     "output_type": "execute_result"
    }
   ],
   "source": [
    "#print(positive)\n",
    "\"\"\"print('negative '+str(sum(negative)))\n",
    "print('anger '+str(sum(anger)))\n",
    "print('anticipation '+str(sum(anticipation)))\n",
    "print('disgust '+str(sum(disgust)))\n",
    "print('fear '+str(sum(fear)))\n",
    "print('joy '+str(sum(joy)))\n",
    "print('sadness '+str(sum(sadness)))\n",
    "print('surprise '+str(sum(surprise)))\n",
    "print('trust '+str(sum(trust)))\"\"\""
   ]
  },
  {
   "cell_type": "code",
   "execution_count": null,
   "id": "cc4473a8",
   "metadata": {},
   "outputs": [],
   "source": [
    "#Plotting interactive graph with dropdown option containing emotions"
   ]
  },
  {
   "cell_type": "code",
   "execution_count": 88,
   "id": "ec72a103",
   "metadata": {},
   "outputs": [],
   "source": [
    "from bokeh.models import CustomJS, ColumnDataSource, Select, Column\n",
    "from bokeh.plotting import figure, show"
   ]
  },
  {
   "cell_type": "code",
   "execution_count": 89,
   "id": "869fd3dc",
   "metadata": {},
   "outputs": [],
   "source": [
    "emPlot = figure(x_range = dateList, y_range = (0, 30000),plot_width=1200, plot_height=500)\n",
    "emPlot.xaxis.major_label_orientation = np.pi/4\n",
    "emPlot.xaxis.axis_label = \"Days\"\n",
    "emPlot.yaxis.axis_label = \"Emotion score\"\n",
    "emPlot.xaxis.axis_label_text_font_size = \"20pt\"\n",
    "emPlot.yaxis.axis_label_text_font_size = \"20pt\"\n",
    "emPlot.axis.axis_label_text_font_style = 'bold'\n",
    "data =  {'Positive': {'x': dateList, 'y':positive},\n",
    "         'Negative': {'x': dateList, 'y':negative},\n",
    "         'Anger': {'x': dateList, 'y':anger},\n",
    "         'Anticipation': {'x': dateList, 'y':anticipation},\n",
    "         'Disgust': {'x': dateList, 'y':disgust},\n",
    "         'Fear': {'x': dateList, 'y':fear},\n",
    "         'Joy': {'x': dateList, 'y':joy},\n",
    "         'Sadness': {'x': dateList, 'y':sadness},\n",
    "         'Surprise': {'x': dateList, 'y':surprise},\n",
    "         'Trust': {'x': dateList, 'y':trust}}\n",
    "\n",
    "source = ColumnDataSource(data['Positive'])\n",
    "emPlot.line('x','y', line_width = 3, source = source)\n",
    "\n",
    "callback = CustomJS(args = {'source': source, 'data': data},\n",
    "code = \"\"\"source.data = data[cb_obj.value]; \"\"\")\n",
    "\n",
    "select = Select(title = 'Choose Emotion', value = 'Positive', options = ['Positive', 'Negative', 'Anger','Anticipation','Disgust','Fear','Joy','Sadness','Surprise','Trust'])\n",
    "select.js_on_change('value', callback)\n",
    "\n",
    "layout = Column(select, emPlot)\n",
    "show(layout)"
   ]
  },
  {
   "cell_type": "code",
   "execution_count": null,
   "id": "045e51a0",
   "metadata": {},
   "outputs": [],
   "source": [
    "#Top 6 emotions graph plot"
   ]
  },
  {
   "cell_type": "code",
   "execution_count": 132,
   "id": "0904977a",
   "metadata": {},
   "outputs": [],
   "source": [
    "emAll = figure(title=\"Top 6 emotions graph\",x_range = dateList, x_axis_label='Dates', y_axis_label='Emotions score',\n",
    "               y_range = (0, 30000),plot_width=1400, plot_height=700)\n",
    "emAll.xaxis.major_label_orientation = np.pi/4\n",
    "emAll.xaxis.axis_label_text_font_size = \"20pt\"\n",
    "emAll.yaxis.axis_label_text_font_size = \"20pt\"\n",
    "emAll.axis.axis_label_text_font_style = 'bold'"
   ]
  },
  {
   "cell_type": "code",
   "execution_count": 133,
   "id": "8ab5894f",
   "metadata": {},
   "outputs": [
    {
     "data": {
      "text/html": [
       "<div style=\"display: table;\"><div style=\"display: table-row;\"><div style=\"display: table-cell;\"><b title=\"bokeh.models.renderers.GlyphRenderer\">GlyphRenderer</b>(</div><div style=\"display: table-cell;\">id&nbsp;=&nbsp;'6983', <span id=\"7007\" style=\"cursor: pointer;\">&hellip;)</span></div></div><div class=\"7006\" style=\"display: none;\"><div style=\"display: table-cell;\"></div><div style=\"display: table-cell;\">coordinates&nbsp;=&nbsp;None,</div></div><div class=\"7006\" style=\"display: none;\"><div style=\"display: table-cell;\"></div><div style=\"display: table-cell;\">data_source&nbsp;=&nbsp;ColumnDataSource(id='6979', ...),</div></div><div class=\"7006\" style=\"display: none;\"><div style=\"display: table-cell;\"></div><div style=\"display: table-cell;\">glyph&nbsp;=&nbsp;Line(id='6980', ...),</div></div><div class=\"7006\" style=\"display: none;\"><div style=\"display: table-cell;\"></div><div style=\"display: table-cell;\">group&nbsp;=&nbsp;None,</div></div><div class=\"7006\" style=\"display: none;\"><div style=\"display: table-cell;\"></div><div style=\"display: table-cell;\">hover_glyph&nbsp;=&nbsp;None,</div></div><div class=\"7006\" style=\"display: none;\"><div style=\"display: table-cell;\"></div><div style=\"display: table-cell;\">js_event_callbacks&nbsp;=&nbsp;{},</div></div><div class=\"7006\" style=\"display: none;\"><div style=\"display: table-cell;\"></div><div style=\"display: table-cell;\">js_property_callbacks&nbsp;=&nbsp;{},</div></div><div class=\"7006\" style=\"display: none;\"><div style=\"display: table-cell;\"></div><div style=\"display: table-cell;\">level&nbsp;=&nbsp;'glyph',</div></div><div class=\"7006\" style=\"display: none;\"><div style=\"display: table-cell;\"></div><div style=\"display: table-cell;\">muted&nbsp;=&nbsp;False,</div></div><div class=\"7006\" style=\"display: none;\"><div style=\"display: table-cell;\"></div><div style=\"display: table-cell;\">muted_glyph&nbsp;=&nbsp;Line(id='6982', ...),</div></div><div class=\"7006\" style=\"display: none;\"><div style=\"display: table-cell;\"></div><div style=\"display: table-cell;\">name&nbsp;=&nbsp;None,</div></div><div class=\"7006\" style=\"display: none;\"><div style=\"display: table-cell;\"></div><div style=\"display: table-cell;\">nonselection_glyph&nbsp;=&nbsp;Line(id='6981', ...),</div></div><div class=\"7006\" style=\"display: none;\"><div style=\"display: table-cell;\"></div><div style=\"display: table-cell;\">selection_glyph&nbsp;=&nbsp;'auto',</div></div><div class=\"7006\" style=\"display: none;\"><div style=\"display: table-cell;\"></div><div style=\"display: table-cell;\">subscribed_events&nbsp;=&nbsp;[],</div></div><div class=\"7006\" style=\"display: none;\"><div style=\"display: table-cell;\"></div><div style=\"display: table-cell;\">syncable&nbsp;=&nbsp;True,</div></div><div class=\"7006\" style=\"display: none;\"><div style=\"display: table-cell;\"></div><div style=\"display: table-cell;\">tags&nbsp;=&nbsp;[],</div></div><div class=\"7006\" style=\"display: none;\"><div style=\"display: table-cell;\"></div><div style=\"display: table-cell;\">view&nbsp;=&nbsp;CDSView(id='6984', ...),</div></div><div class=\"7006\" style=\"display: none;\"><div style=\"display: table-cell;\"></div><div style=\"display: table-cell;\">visible&nbsp;=&nbsp;True,</div></div><div class=\"7006\" style=\"display: none;\"><div style=\"display: table-cell;\"></div><div style=\"display: table-cell;\">x_range_name&nbsp;=&nbsp;'default',</div></div><div class=\"7006\" style=\"display: none;\"><div style=\"display: table-cell;\"></div><div style=\"display: table-cell;\">y_range_name&nbsp;=&nbsp;'default')</div></div></div>\n",
       "<script>\n",
       "(function() {\n",
       "  let expanded = false;\n",
       "  const ellipsis = document.getElementById(\"7007\");\n",
       "  ellipsis.addEventListener(\"click\", function() {\n",
       "    const rows = document.getElementsByClassName(\"7006\");\n",
       "    for (let i = 0; i < rows.length; i++) {\n",
       "      const el = rows[i];\n",
       "      el.style.display = expanded ? \"none\" : \"table-row\";\n",
       "    }\n",
       "    ellipsis.innerHTML = expanded ? \"&hellip;)\" : \"&lsaquo;&lsaquo;&lsaquo;\";\n",
       "    expanded = !expanded;\n",
       "  });\n",
       "})();\n",
       "</script>\n"
      ],
      "text/plain": [
       "GlyphRenderer(id='6983', ...)"
      ]
     },
     "execution_count": 133,
     "metadata": {},
     "output_type": "execute_result"
    }
   ],
   "source": [
    "emAll.line(dateList, positive, legend_label=\"Positive\", color=\"#2ECC71\", line_width=2)\n",
    "emAll.line(dateList, negative, legend_label=\"Negative\", color=\"#F1C40F\", line_width=2)\n",
    "emAll.line(dateList, fear, legend_label=\"Fear\", color=\"#F39C12\", line_width=2)\n",
    "emAll.line(dateList, trust, legend_label=\"Trust\", color=\"#3498DB\", line_width=2)\n",
    "emAll.line(dateList, anger, legend_label=\"Anger\", color=\"#E74C3C\", line_width=2)\n",
    "emAll.line(dateList, anticipation, legend_label=\"Anticipation\", color=\"#95A5A6\", line_width=2)\n"
   ]
  },
  {
   "cell_type": "code",
   "execution_count": 134,
   "id": "6a9b09aa",
   "metadata": {},
   "outputs": [],
   "source": [
    "show(emAll)"
   ]
  },
  {
   "cell_type": "code",
   "execution_count": null,
   "id": "6e9203d9",
   "metadata": {},
   "outputs": [],
   "source": [
    "#Graph for emotion scores of Elections as the topic"
   ]
  },
  {
   "cell_type": "code",
   "execution_count": 93,
   "id": "e08069f1",
   "metadata": {},
   "outputs": [],
   "source": [
    "ElectionEmDict = {}\n",
    "#eachPostDict = {'positive':0,'negative':0,'anger':0,'anticipation':0,'disgust':0,'fear':0,'joy':0,'sadness':0,'surprise':0,'trust':0}\n",
    "\n",
    "for eachDate in dateList:\n",
    "    tdDict = {'positive':0,'negative':0,'anger':0,'anticipation':0,'disgust':0,'fear':0,'joy':0,'sadness':0,'surprise':0,'trust':0}\n",
    "    for eachPost in dataP:\n",
    "        pnDict = {}\n",
    "        #eachPostDict = {'positive':0,'negative':0,'anger':0,'anticipation':0,'disgust':0,'fear':0,'joy':0,'sadness':0,'surprise':0,'trust':0}\n",
    "        tpText = (eachPost['title'].split('\\n'))\n",
    "        pText = line2 = str(tpText).lower()\n",
    "        puTime = eachPost['created_utc']\n",
    "        if \"election\" in pText or \"elections\" in pText or \"votes\" in pText or \"vote\" in pText:\n",
    "            pnObject = NRCLex(pText)\n",
    "            pnDict = pnObject.raw_emotion_scores\n",
    "        \n",
    "            datetime = dt.datetime.fromtimestamp(puTime, gettz(\"America/New_York\"))\n",
    "            peTime = datetime.isoformat(timespec='hours')[:-9]\n",
    "        \n",
    "            if eachDate == peTime:\n",
    "                for i in pnDict.keys():\n",
    "                    tdDict[i] += pnDict[i]       \n",
    "        \n",
    "        ElectionEmDict[eachDate] = tdDict"
   ]
  },
  {
   "cell_type": "code",
   "execution_count": 62,
   "id": "576a6c49",
   "metadata": {},
   "outputs": [
    {
     "name": "stdout",
     "output_type": "stream",
     "text": [
      "{'2022-10-25': {'positive': 41, 'negative': 33, 'anger': 28, 'anticipation': 27, 'disgust': 4, 'fear': 12, 'joy': 19, 'sadness': 16, 'surprise': 16, 'trust': 35}, '2022-10-26': {'positive': 60, 'negative': 89, 'anger': 53, 'anticipation': 38, 'disgust': 23, 'fear': 50, 'joy': 17, 'sadness': 42, 'surprise': 23, 'trust': 51}, '2022-10-27': {'positive': 69, 'negative': 66, 'anger': 38, 'anticipation': 49, 'disgust': 13, 'fear': 40, 'joy': 23, 'sadness': 28, 'surprise': 25, 'trust': 50}, '2022-10-28': {'positive': 61, 'negative': 84, 'anger': 63, 'anticipation': 39, 'disgust': 17, 'fear': 47, 'joy': 24, 'sadness': 33, 'surprise': 24, 'trust': 57}, '2022-10-29': {'positive': 30, 'negative': 34, 'anger': 21, 'anticipation': 26, 'disgust': 4, 'fear': 16, 'joy': 13, 'sadness': 16, 'surprise': 16, 'trust': 27}, '2022-10-30': {'positive': 56, 'negative': 46, 'anger': 31, 'anticipation': 31, 'disgust': 11, 'fear': 26, 'joy': 19, 'sadness': 21, 'surprise': 19, 'trust': 52}, '2022-10-31': {'positive': 50, 'negative': 51, 'anger': 34, 'anticipation': 37, 'disgust': 9, 'fear': 27, 'joy': 20, 'sadness': 22, 'surprise': 23, 'trust': 50}, '2022-11-01': {'positive': 87, 'negative': 115, 'anger': 68, 'anticipation': 51, 'disgust': 25, 'fear': 59, 'joy': 34, 'sadness': 52, 'surprise': 34, 'trust': 96}, '2022-11-02': {'positive': 107, 'negative': 119, 'anger': 87, 'anticipation': 71, 'disgust': 17, 'fear': 61, 'joy': 48, 'sadness': 62, 'surprise': 55, 'trust': 91}, '2022-11-03': {'positive': 93, 'negative': 104, 'anger': 60, 'anticipation': 64, 'disgust': 10, 'fear': 51, 'joy': 31, 'sadness': 41, 'surprise': 34, 'trust': 89}, '2022-11-04': {'positive': 68, 'negative': 91, 'anger': 53, 'anticipation': 42, 'disgust': 16, 'fear': 54, 'joy': 20, 'sadness': 43, 'surprise': 21, 'trust': 65}, '2022-11-05': {'positive': 63, 'negative': 61, 'anger': 45, 'anticipation': 30, 'disgust': 12, 'fear': 36, 'joy': 20, 'sadness': 26, 'surprise': 23, 'trust': 42}, '2022-11-06': {'positive': 48, 'negative': 55, 'anger': 38, 'anticipation': 32, 'disgust': 11, 'fear': 28, 'joy': 16, 'sadness': 27, 'surprise': 14, 'trust': 44}, '2022-11-07': {'positive': 168, 'negative': 169, 'anger': 108, 'anticipation': 113, 'disgust': 30, 'fear': 89, 'joy': 68, 'sadness': 96, 'surprise': 69, 'trust': 151}, '2022-11-08': {'positive': 185, 'negative': 168, 'anger': 119, 'anticipation': 116, 'disgust': 32, 'fear': 88, 'joy': 66, 'sadness': 68, 'surprise': 75, 'trust': 171}, '2022-11-09': {'positive': 158, 'negative': 167, 'anger': 82, 'anticipation': 86, 'disgust': 38, 'fear': 77, 'joy': 72, 'sadness': 90, 'surprise': 78, 'trust': 150}, '2022-11-10': {'positive': 127, 'negative': 112, 'anger': 74, 'anticipation': 71, 'disgust': 34, 'fear': 55, 'joy': 57, 'sadness': 62, 'surprise': 52, 'trust': 90}, '2022-11-11': {'positive': 96, 'negative': 86, 'anger': 63, 'anticipation': 64, 'disgust': 21, 'fear': 43, 'joy': 41, 'sadness': 50, 'surprise': 50, 'trust': 84}, '2022-11-12': {'positive': 57, 'negative': 74, 'anger': 31, 'anticipation': 40, 'disgust': 25, 'fear': 30, 'joy': 27, 'sadness': 33, 'surprise': 35, 'trust': 50}, '2022-11-13': {'positive': 60, 'negative': 66, 'anger': 36, 'anticipation': 28, 'disgust': 15, 'fear': 34, 'joy': 18, 'sadness': 43, 'surprise': 28, 'trust': 48}, '2022-11-14': {'positive': 128, 'negative': 84, 'anger': 55, 'anticipation': 85, 'disgust': 23, 'fear': 44, 'joy': 46, 'sadness': 46, 'surprise': 40, 'trust': 126}, '2022-11-15': {'positive': 59, 'negative': 46, 'anger': 33, 'anticipation': 37, 'disgust': 7, 'fear': 24, 'joy': 34, 'sadness': 31, 'surprise': 29, 'trust': 71}, '2022-11-16': {'positive': 67, 'negative': 60, 'anger': 41, 'anticipation': 56, 'disgust': 11, 'fear': 36, 'joy': 41, 'sadness': 35, 'surprise': 41, 'trust': 81}, '2022-11-17': {'positive': 49, 'negative': 45, 'anger': 27, 'anticipation': 35, 'disgust': 10, 'fear': 21, 'joy': 22, 'sadness': 20, 'surprise': 24, 'trust': 52}, '2022-11-18': {'positive': 43, 'negative': 31, 'anger': 24, 'anticipation': 25, 'disgust': 8, 'fear': 16, 'joy': 18, 'sadness': 13, 'surprise': 19, 'trust': 41}, '2022-11-19': {'positive': 38, 'negative': 36, 'anger': 21, 'anticipation': 19, 'disgust': 8, 'fear': 18, 'joy': 17, 'sadness': 25, 'surprise': 19, 'trust': 32}, '2022-11-20': {'positive': 26, 'negative': 22, 'anger': 13, 'anticipation': 12, 'disgust': 2, 'fear': 12, 'joy': 12, 'sadness': 14, 'surprise': 14, 'trust': 28}, '2022-11-21': {'positive': 40, 'negative': 52, 'anger': 36, 'anticipation': 27, 'disgust': 10, 'fear': 26, 'joy': 19, 'sadness': 24, 'surprise': 23, 'trust': 52}, '2022-11-22': {'positive': 28, 'negative': 53, 'anger': 36, 'anticipation': 18, 'disgust': 16, 'fear': 28, 'joy': 12, 'sadness': 23, 'surprise': 19, 'trust': 38}, '2022-11-23': {'positive': 50, 'negative': 54, 'anger': 54, 'anticipation': 45, 'disgust': 12, 'fear': 41, 'joy': 26, 'sadness': 32, 'surprise': 28, 'trust': 54}, '2022-11-24': {'positive': 29, 'negative': 21, 'anger': 14, 'anticipation': 13, 'disgust': 4, 'fear': 7, 'joy': 9, 'sadness': 16, 'surprise': 15, 'trust': 32}, '2022-11-25': {'positive': 23, 'negative': 15, 'anger': 9, 'anticipation': 18, 'disgust': 2, 'fear': 8, 'joy': 11, 'sadness': 8, 'surprise': 6, 'trust': 20}, '2022-11-26': {'positive': 19, 'negative': 13, 'anger': 12, 'anticipation': 6, 'disgust': 5, 'fear': 9, 'joy': 1, 'sadness': 6, 'surprise': 3, 'trust': 15}, '2022-11-27': {'positive': 12, 'negative': 12, 'anger': 10, 'anticipation': 9, 'disgust': 3, 'fear': 3, 'joy': 7, 'sadness': 4, 'surprise': 6, 'trust': 10}, '2022-11-28': {'positive': 52, 'negative': 66, 'anger': 42, 'anticipation': 31, 'disgust': 9, 'fear': 31, 'joy': 18, 'sadness': 20, 'surprise': 14, 'trust': 79}, '2022-11-29': {'positive': 54, 'negative': 47, 'anger': 39, 'anticipation': 35, 'disgust': 17, 'fear': 26, 'joy': 23, 'sadness': 30, 'surprise': 24, 'trust': 69}, '2022-11-30': {'positive': 48, 'negative': 79, 'anger': 63, 'anticipation': 40, 'disgust': 17, 'fear': 35, 'joy': 21, 'sadness': 35, 'surprise': 27, 'trust': 53}, '2022-12-01': {'positive': 38, 'negative': 60, 'anger': 46, 'anticipation': 37, 'disgust': 13, 'fear': 21, 'joy': 20, 'sadness': 38, 'surprise': 26, 'trust': 59}, '2022-12-02': {'positive': 39, 'negative': 34, 'anger': 19, 'anticipation': 21, 'disgust': 9, 'fear': 10, 'joy': 12, 'sadness': 16, 'surprise': 17, 'trust': 35}, '2022-12-03': {'positive': 16, 'negative': 22, 'anger': 7, 'anticipation': 14, 'disgust': 2, 'fear': 6, 'joy': 4, 'sadness': 7, 'surprise': 3, 'trust': 16}, '2022-12-04': {'positive': 22, 'negative': 17, 'anger': 11, 'anticipation': 14, 'disgust': 5, 'fear': 8, 'joy': 9, 'sadness': 9, 'surprise': 10, 'trust': 20}, '2022-12-05': {'positive': 18, 'negative': 17, 'anger': 10, 'anticipation': 14, 'disgust': 5, 'fear': 12, 'joy': 6, 'sadness': 8, 'surprise': 9, 'trust': 14}, '2022-12-06': {'positive': 15, 'negative': 6, 'anger': 6, 'anticipation': 7, 'disgust': 0, 'fear': 5, 'joy': 2, 'sadness': 3, 'surprise': 4, 'trust': 11}, '2022-12-07': {'positive': 8, 'negative': 10, 'anger': 10, 'anticipation': 11, 'disgust': 0, 'fear': 15, 'joy': 2, 'sadness': 5, 'surprise': 1, 'trust': 9}}\n"
     ]
    }
   ],
   "source": [
    "print(ElectionEmDict)"
   ]
  },
  {
   "cell_type": "code",
   "execution_count": 94,
   "id": "be9841df",
   "metadata": {},
   "outputs": [],
   "source": [
    "epositive,enegative,eanger,eanticipation,edisgust,efear,ejoy,esadness,esurprise,etrust = [],[],[],[],[],[],[],[],[],[]\n",
    "for i in ElectionEmDict:\n",
    "    #print(i)\n",
    "    for j in ElectionEmDict[i].keys():\n",
    "        if j == 'positive':\n",
    "            epositive.append(ElectionEmDict[i][j])\n",
    "        if j == 'negative':\n",
    "            enegative.append(ElectionEmDict[i][j])\n",
    "        if j == 'anger':\n",
    "            eanger.append(ElectionEmDict[i][j])\n",
    "        if j == 'anticipation':\n",
    "            eanticipation.append(ElectionEmDict[i][j])\n",
    "        if j == 'disgust':\n",
    "            edisgust.append(ElectionEmDict[i][j])\n",
    "        if j == 'fear':\n",
    "            efear.append(ElectionEmDict[i][j])\n",
    "        if j == 'joy':\n",
    "            ejoy.append(ElectionEmDict[i][j])\n",
    "        if j == 'sadness':\n",
    "            esadness.append(ElectionEmDict[i][j])\n",
    "        if j == 'surprise':\n",
    "            esurprise.append(ElectionEmDict[i][j])\n",
    "        if j == 'trust':\n",
    "            etrust.append(ElectionEmDict[i][j])"
   ]
  },
  {
   "cell_type": "code",
   "execution_count": 95,
   "id": "c637a318",
   "metadata": {},
   "outputs": [
    {
     "data": {
      "text/html": [
       "<div style=\"display: table;\"><div style=\"display: table-row;\"><div style=\"display: table-cell;\"><b title=\"bokeh.models.renderers.GlyphRenderer\">GlyphRenderer</b>(</div><div style=\"display: table-cell;\">id&nbsp;=&nbsp;'5303', <span id=\"5335\" style=\"cursor: pointer;\">&hellip;)</span></div></div><div class=\"5334\" style=\"display: none;\"><div style=\"display: table-cell;\"></div><div style=\"display: table-cell;\">coordinates&nbsp;=&nbsp;None,</div></div><div class=\"5334\" style=\"display: none;\"><div style=\"display: table-cell;\"></div><div style=\"display: table-cell;\">data_source&nbsp;=&nbsp;ColumnDataSource(id='5299', ...),</div></div><div class=\"5334\" style=\"display: none;\"><div style=\"display: table-cell;\"></div><div style=\"display: table-cell;\">glyph&nbsp;=&nbsp;Line(id='5300', ...),</div></div><div class=\"5334\" style=\"display: none;\"><div style=\"display: table-cell;\"></div><div style=\"display: table-cell;\">group&nbsp;=&nbsp;None,</div></div><div class=\"5334\" style=\"display: none;\"><div style=\"display: table-cell;\"></div><div style=\"display: table-cell;\">hover_glyph&nbsp;=&nbsp;None,</div></div><div class=\"5334\" style=\"display: none;\"><div style=\"display: table-cell;\"></div><div style=\"display: table-cell;\">js_event_callbacks&nbsp;=&nbsp;{},</div></div><div class=\"5334\" style=\"display: none;\"><div style=\"display: table-cell;\"></div><div style=\"display: table-cell;\">js_property_callbacks&nbsp;=&nbsp;{},</div></div><div class=\"5334\" style=\"display: none;\"><div style=\"display: table-cell;\"></div><div style=\"display: table-cell;\">level&nbsp;=&nbsp;'glyph',</div></div><div class=\"5334\" style=\"display: none;\"><div style=\"display: table-cell;\"></div><div style=\"display: table-cell;\">muted&nbsp;=&nbsp;False,</div></div><div class=\"5334\" style=\"display: none;\"><div style=\"display: table-cell;\"></div><div style=\"display: table-cell;\">muted_glyph&nbsp;=&nbsp;Line(id='5302', ...),</div></div><div class=\"5334\" style=\"display: none;\"><div style=\"display: table-cell;\"></div><div style=\"display: table-cell;\">name&nbsp;=&nbsp;None,</div></div><div class=\"5334\" style=\"display: none;\"><div style=\"display: table-cell;\"></div><div style=\"display: table-cell;\">nonselection_glyph&nbsp;=&nbsp;Line(id='5301', ...),</div></div><div class=\"5334\" style=\"display: none;\"><div style=\"display: table-cell;\"></div><div style=\"display: table-cell;\">selection_glyph&nbsp;=&nbsp;'auto',</div></div><div class=\"5334\" style=\"display: none;\"><div style=\"display: table-cell;\"></div><div style=\"display: table-cell;\">subscribed_events&nbsp;=&nbsp;[],</div></div><div class=\"5334\" style=\"display: none;\"><div style=\"display: table-cell;\"></div><div style=\"display: table-cell;\">syncable&nbsp;=&nbsp;True,</div></div><div class=\"5334\" style=\"display: none;\"><div style=\"display: table-cell;\"></div><div style=\"display: table-cell;\">tags&nbsp;=&nbsp;[],</div></div><div class=\"5334\" style=\"display: none;\"><div style=\"display: table-cell;\"></div><div style=\"display: table-cell;\">view&nbsp;=&nbsp;CDSView(id='5304', ...),</div></div><div class=\"5334\" style=\"display: none;\"><div style=\"display: table-cell;\"></div><div style=\"display: table-cell;\">visible&nbsp;=&nbsp;True,</div></div><div class=\"5334\" style=\"display: none;\"><div style=\"display: table-cell;\"></div><div style=\"display: table-cell;\">x_range_name&nbsp;=&nbsp;'default',</div></div><div class=\"5334\" style=\"display: none;\"><div style=\"display: table-cell;\"></div><div style=\"display: table-cell;\">y_range_name&nbsp;=&nbsp;'default')</div></div></div>\n",
       "<script>\n",
       "(function() {\n",
       "  let expanded = false;\n",
       "  const ellipsis = document.getElementById(\"5335\");\n",
       "  ellipsis.addEventListener(\"click\", function() {\n",
       "    const rows = document.getElementsByClassName(\"5334\");\n",
       "    for (let i = 0; i < rows.length; i++) {\n",
       "      const el = rows[i];\n",
       "      el.style.display = expanded ? \"none\" : \"table-row\";\n",
       "    }\n",
       "    ellipsis.innerHTML = expanded ? \"&hellip;)\" : \"&lsaquo;&lsaquo;&lsaquo;\";\n",
       "    expanded = !expanded;\n",
       "  });\n",
       "})();\n",
       "</script>\n"
      ],
      "text/plain": [
       "GlyphRenderer(id='5303', ...)"
      ]
     },
     "execution_count": 95,
     "metadata": {},
     "output_type": "execute_result"
    }
   ],
   "source": [
    "emElec = figure(title=\"Elections emotions graph\",x_range = dateList, x_axis_label='Dates', y_axis_label='Election emotions score',\n",
    "               y_range = (0, 200),plot_width=1400, plot_height=700)\n",
    "emElec.xaxis.major_label_orientation = np.pi/4\n",
    "emElec.xaxis.axis_label_text_font_size = \"20pt\"\n",
    "emElec.yaxis.axis_label_text_font_size = \"20pt\"\n",
    "emElec.axis.axis_label_text_font_style = 'bold'\n",
    "\n",
    "emElec.line(dateList, epositive, legend_label=\"Positive\", color=\"#28B463\", line_width=2)\n",
    "emElec.line(dateList, enegative, legend_label=\"Negative\", color=\"#34495E\", line_width=2)\n",
    "emElec.line(dateList, eanger, legend_label=\"Anger\", color=\"#E74C3C\", line_width=2)\n",
    "emElec.line(dateList, eanticipation, legend_label=\"Anticipation\", color=\"#AF7AC5\", line_width=2)\n",
    "emElec.line(dateList, edisgust, legend_label=\"Disgust\", color=\"#873600\", line_width=2)\n",
    "emElec.line(dateList, efear, legend_label=\"Fear\", color=\"#E67E22\", line_width=2)\n",
    "emElec.line(dateList, ejoy, legend_label=\"Joy\", color=\"#AED6F1\", line_width=2)\n",
    "emElec.line(dateList, esurprise, legend_label=\"Surprise\", color=\"#F7DC6F\", line_width=2)\n",
    "emElec.line(dateList, esadness, legend_label=\"Sadness\", color=\"#2874A6\", line_width=2)\n",
    "emElec.line(dateList, etrust, legend_label=\"Trust\", color=\"#BFC9CA\", line_width=2)"
   ]
  },
  {
   "cell_type": "code",
   "execution_count": 96,
   "id": "d4a264b5",
   "metadata": {},
   "outputs": [],
   "source": [
    "show(emElec)"
   ]
  },
  {
   "cell_type": "code",
   "execution_count": null,
   "id": "2a2cd6a1",
   "metadata": {},
   "outputs": [],
   "source": [
    "#Emotion and Sentiment Prediction on posts from 22nd Nov to 28th Nov"
   ]
  },
  {
   "cell_type": "code",
   "execution_count": 97,
   "id": "9a839bb5",
   "metadata": {},
   "outputs": [
    {
     "name": "stdout",
     "output_type": "stream",
     "text": [
      "[137, 290, 321, 309, 191, 208, 262, 380, 464, 458, 341, 243, 222, 377, 366, 421, 403, 305, 217, 194, 380, 362, 333, 367, 286, 205, 172, 291]\n"
     ]
    }
   ],
   "source": [
    "prdPos = allpostpositive[:28]\n",
    "print(prdPos)"
   ]
  },
  {
   "cell_type": "code",
   "execution_count": 98,
   "id": "ff592fe9",
   "metadata": {},
   "outputs": [],
   "source": [
    "def splitSequence(seq, n_steps):\n",
    "    \n",
    "    #Declare X and y as empty list\n",
    "    X = []\n",
    "    y = []\n",
    "    \n",
    "    for i in range(len(seq)):\n",
    "        #get the last index\n",
    "        lastIndex = i + n_steps\n",
    "        \n",
    "        #if lastIndex is greater than length of sequence then break\n",
    "        if lastIndex > len(seq) - 1:\n",
    "            break\n",
    "            \n",
    "        #Create input and output sequence\n",
    "        seq_X, seq_y = seq[i:lastIndex], seq[lastIndex]\n",
    "        \n",
    "        #append seq_X, seq_y in X and y list\n",
    "        X.append(seq_X)\n",
    "        y.append(seq_y)\n",
    "        pass\n",
    "    #Convert X and y into numpy array\n",
    "    X = np.array(X)\n",
    "    y = np.array(y)\n",
    "    \n",
    "    return X,y \n",
    "    \n",
    "    pass"
   ]
  },
  {
   "cell_type": "code",
   "execution_count": 99,
   "id": "d446592b",
   "metadata": {},
   "outputs": [
    {
     "name": "stdout",
     "output_type": "stream",
     "text": [
      "[[137 290 321 309 191 208 262]\n",
      " [290 321 309 191 208 262 380]\n",
      " [321 309 191 208 262 380 464]\n",
      " [309 191 208 262 380 464 458]\n",
      " [191 208 262 380 464 458 341]\n",
      " [208 262 380 464 458 341 243]\n",
      " [262 380 464 458 341 243 222]\n",
      " [380 464 458 341 243 222 377]\n",
      " [464 458 341 243 222 377 366]\n",
      " [458 341 243 222 377 366 421]\n",
      " [341 243 222 377 366 421 403]\n",
      " [243 222 377 366 421 403 305]\n",
      " [222 377 366 421 403 305 217]\n",
      " [377 366 421 403 305 217 194]\n",
      " [366 421 403 305 217 194 380]\n",
      " [421 403 305 217 194 380 362]\n",
      " [403 305 217 194 380 362 333]\n",
      " [305 217 194 380 362 333 367]\n",
      " [217 194 380 362 333 367 286]\n",
      " [194 380 362 333 367 286 205]\n",
      " [380 362 333 367 286 205 172]]\n",
      "[380 464 458 341 243 222 377 366 421 403 305 217 194 380 362 333 367 286\n",
      " 205 172 291]\n",
      "[137 290 321 309 191 208 262] 380\n",
      "[290 321 309 191 208 262 380] 464\n",
      "[321 309 191 208 262 380 464] 458\n",
      "[309 191 208 262 380 464 458] 341\n",
      "[191 208 262 380 464 458 341] 243\n",
      "[208 262 380 464 458 341 243] 222\n",
      "[262 380 464 458 341 243 222] 377\n",
      "[380 464 458 341 243 222 377] 366\n",
      "[464 458 341 243 222 377 366] 421\n",
      "[458 341 243 222 377 366 421] 403\n",
      "[341 243 222 377 366 421 403] 305\n",
      "[243 222 377 366 421 403 305] 217\n",
      "[222 377 366 421 403 305 217] 194\n",
      "[377 366 421 403 305 217 194] 380\n",
      "[366 421 403 305 217 194 380] 362\n",
      "[421 403 305 217 194 380 362] 333\n",
      "[403 305 217 194 380 362 333] 367\n",
      "[305 217 194 380 362 333 367] 286\n",
      "[217 194 380 362 333 367 286] 205\n",
      "[194 380 362 333 367 286 205] 172\n",
      "[380 362 333 367 286 205 172] 291\n",
      "[[[137]\n",
      "  [290]\n",
      "  [321]\n",
      "  [309]\n",
      "  [191]\n",
      "  [208]\n",
      "  [262]]\n",
      "\n",
      " [[290]\n",
      "  [321]\n",
      "  [309]\n",
      "  [191]\n",
      "  [208]\n",
      "  [262]\n",
      "  [380]]]\n"
     ]
    }
   ],
   "source": [
    "n_steps = 7\n",
    "X, y = splitSequence(prdPos, n_steps = 7)\n",
    "print(X)\n",
    "print(y)\n",
    "for i in range(len(X)):\n",
    "    print(X[i], y[i])\n",
    "# reshape from [samples, timesteps] into [samples, timesteps, features]\n",
    "n_features = 1\n",
    "X = X.reshape((X.shape[0], X.shape[1], n_features))\n",
    "print(X[:2])"
   ]
  },
  {
   "cell_type": "code",
   "execution_count": 100,
   "id": "3c03c2f8",
   "metadata": {},
   "outputs": [],
   "source": [
    "import tensorflow as tf\n",
    "from tensorflow import keras\n",
    "from tensorflow.keras import layers"
   ]
  },
  {
   "cell_type": "code",
   "execution_count": 101,
   "id": "07d355d2",
   "metadata": {},
   "outputs": [
    {
     "name": "stdout",
     "output_type": "stream",
     "text": [
      "Model: \"sequential_1\"\n",
      "_________________________________________________________________\n",
      " Layer (type)                Output Shape              Param #   \n",
      "=================================================================\n",
      " lstm_1 (LSTM)               (None, 50)                10400     \n",
      "                                                                 \n",
      " dense_1 (Dense)             (None, 1)                 51        \n",
      "                                                                 \n",
      "=================================================================\n",
      "Total params: 10,451\n",
      "Trainable params: 10,451\n",
      "Non-trainable params: 0\n",
      "_________________________________________________________________\n"
     ]
    }
   ],
   "source": [
    "model = tf.keras.Sequential()\n",
    "model.add(layers.LSTM(50, activation='relu', input_shape=(n_steps, n_features)))\n",
    "model.add(layers.Dense(1))\n",
    "model.layers\n",
    "model.summary()"
   ]
  },
  {
   "cell_type": "code",
   "execution_count": 126,
   "id": "44a7b592",
   "metadata": {},
   "outputs": [
    {
     "name": "stdout",
     "output_type": "stream",
     "text": [
      "Epoch 1/450\n",
      "1/1 [==============================] - 1s 1s/step - loss: 146.3390\n",
      "Epoch 2/450\n",
      "1/1 [==============================] - 0s 8ms/step - loss: 10507.0195\n",
      "Epoch 3/450\n",
      "1/1 [==============================] - 0s 13ms/step - loss: 6822.7290\n",
      "Epoch 4/450\n",
      "1/1 [==============================] - 0s 9ms/step - loss: 6226.7983\n",
      "Epoch 5/450\n",
      "1/1 [==============================] - 0s 13ms/step - loss: 1888.1654\n",
      "Epoch 6/450\n",
      "1/1 [==============================] - 0s 11ms/step - loss: 1092.4713\n",
      "Epoch 7/450\n",
      "1/1 [==============================] - 0s 11ms/step - loss: 2092.1416\n",
      "Epoch 8/450\n",
      "1/1 [==============================] - 0s 14ms/step - loss: 2845.6841\n",
      "Epoch 9/450\n",
      "1/1 [==============================] - 0s 12ms/step - loss: 3407.3872\n",
      "Epoch 10/450\n",
      "1/1 [==============================] - 0s 11ms/step - loss: 3712.4333\n",
      "Epoch 11/450\n",
      "1/1 [==============================] - 0s 11ms/step - loss: 3423.9075\n",
      "Epoch 12/450\n",
      "1/1 [==============================] - 0s 12ms/step - loss: 3067.6094\n",
      "Epoch 13/450\n",
      "1/1 [==============================] - 0s 12ms/step - loss: 2605.0286\n",
      "Epoch 14/450\n",
      "1/1 [==============================] - 0s 7ms/step - loss: 2095.7283\n",
      "Epoch 15/450\n",
      "1/1 [==============================] - 0s 13ms/step - loss: 1778.5156\n",
      "Epoch 16/450\n",
      "1/1 [==============================] - 0s 12ms/step - loss: 1630.2539\n",
      "Epoch 17/450\n",
      "1/1 [==============================] - 0s 15ms/step - loss: 1309.1503\n",
      "Epoch 18/450\n",
      "1/1 [==============================] - 0s 13ms/step - loss: 1125.8896\n",
      "Epoch 19/450\n",
      "1/1 [==============================] - 0s 12ms/step - loss: 829.6909\n",
      "Epoch 20/450\n",
      "1/1 [==============================] - 0s 12ms/step - loss: 631.1798\n",
      "Epoch 21/450\n",
      "1/1 [==============================] - 0s 16ms/step - loss: 639.6430\n",
      "Epoch 22/450\n",
      "1/1 [==============================] - 0s 11ms/step - loss: 786.3413\n",
      "Epoch 23/450\n",
      "1/1 [==============================] - 0s 9ms/step - loss: 636.7198\n",
      "Epoch 24/450\n",
      "1/1 [==============================] - 0s 12ms/step - loss: 536.7797\n",
      "Epoch 25/450\n",
      "1/1 [==============================] - 0s 7ms/step - loss: 831.8356\n",
      "Epoch 26/450\n",
      "1/1 [==============================] - 0s 8ms/step - loss: 907.4731\n",
      "Epoch 27/450\n",
      "1/1 [==============================] - 0s 12ms/step - loss: 617.9390\n",
      "Epoch 28/450\n",
      "1/1 [==============================] - 0s 13ms/step - loss: 393.6547\n",
      "Epoch 29/450\n",
      "1/1 [==============================] - 0s 8ms/step - loss: 413.7632\n",
      "Epoch 30/450\n",
      "1/1 [==============================] - 0s 11ms/step - loss: 419.0008\n",
      "Epoch 31/450\n",
      "1/1 [==============================] - 0s 13ms/step - loss: 397.4032\n",
      "Epoch 32/450\n",
      "1/1 [==============================] - 0s 9ms/step - loss: 363.0925\n",
      "Epoch 33/450\n",
      "1/1 [==============================] - 0s 11ms/step - loss: 350.6277\n",
      "Epoch 34/450\n",
      "1/1 [==============================] - 0s 8ms/step - loss: 362.2504\n",
      "Epoch 35/450\n",
      "1/1 [==============================] - 0s 8ms/step - loss: 371.8140\n",
      "Epoch 36/450\n",
      "1/1 [==============================] - 0s 7ms/step - loss: 375.3936\n",
      "Epoch 37/450\n",
      "1/1 [==============================] - 0s 8ms/step - loss: 340.6379\n",
      "Epoch 38/450\n",
      "1/1 [==============================] - 0s 7ms/step - loss: 278.5764\n",
      "Epoch 39/450\n",
      "1/1 [==============================] - 0s 11ms/step - loss: 242.1175\n",
      "Epoch 40/450\n",
      "1/1 [==============================] - 0s 10ms/step - loss: 224.1065\n",
      "Epoch 41/450\n",
      "1/1 [==============================] - 0s 7ms/step - loss: 226.4050\n",
      "Epoch 42/450\n",
      "1/1 [==============================] - 0s 12ms/step - loss: 208.9067\n",
      "Epoch 43/450\n",
      "1/1 [==============================] - 0s 13ms/step - loss: 188.8574\n",
      "Epoch 44/450\n",
      "1/1 [==============================] - 0s 11ms/step - loss: 187.9544\n",
      "Epoch 45/450\n",
      "1/1 [==============================] - 0s 7ms/step - loss: 198.0951\n",
      "Epoch 46/450\n",
      "1/1 [==============================] - 0s 13ms/step - loss: 202.8904\n",
      "Epoch 47/450\n",
      "1/1 [==============================] - 0s 11ms/step - loss: 191.7411\n",
      "Epoch 48/450\n",
      "1/1 [==============================] - 0s 8ms/step - loss: 178.8252\n",
      "Epoch 49/450\n",
      "1/1 [==============================] - 0s 11ms/step - loss: 167.1525\n",
      "Epoch 50/450\n",
      "1/1 [==============================] - 0s 8ms/step - loss: 155.0457\n",
      "Epoch 51/450\n",
      "1/1 [==============================] - 0s 15ms/step - loss: 150.9039\n",
      "Epoch 52/450\n",
      "1/1 [==============================] - 0s 14ms/step - loss: 147.2245\n",
      "Epoch 53/450\n",
      "1/1 [==============================] - 0s 10ms/step - loss: 140.9910\n",
      "Epoch 54/450\n",
      "1/1 [==============================] - 0s 12ms/step - loss: 134.2163\n",
      "Epoch 55/450\n",
      "1/1 [==============================] - 0s 8ms/step - loss: 133.0954\n",
      "Epoch 56/450\n",
      "1/1 [==============================] - 0s 13ms/step - loss: 133.2975\n",
      "Epoch 57/450\n",
      "1/1 [==============================] - 0s 10ms/step - loss: 126.8992\n",
      "Epoch 58/450\n",
      "1/1 [==============================] - 0s 11ms/step - loss: 118.3102\n",
      "Epoch 59/450\n",
      "1/1 [==============================] - 0s 13ms/step - loss: 114.7331\n",
      "Epoch 60/450\n",
      "1/1 [==============================] - 0s 10ms/step - loss: 116.2120\n",
      "Epoch 61/450\n",
      "1/1 [==============================] - 0s 10ms/step - loss: 114.1397\n",
      "Epoch 62/450\n",
      "1/1 [==============================] - 0s 9ms/step - loss: 109.5962\n",
      "Epoch 63/450\n",
      "1/1 [==============================] - 0s 7ms/step - loss: 108.8030\n",
      "Epoch 64/450\n",
      "1/1 [==============================] - 0s 8ms/step - loss: 109.1651\n",
      "Epoch 65/450\n",
      "1/1 [==============================] - 0s 10ms/step - loss: 107.3479\n",
      "Epoch 66/450\n",
      "1/1 [==============================] - 0s 9ms/step - loss: 102.3791\n",
      "Epoch 67/450\n",
      "1/1 [==============================] - 0s 8ms/step - loss: 99.7887\n",
      "Epoch 68/450\n",
      "1/1 [==============================] - 0s 8ms/step - loss: 98.6139\n",
      "Epoch 69/450\n",
      "1/1 [==============================] - 0s 7ms/step - loss: 96.3547\n",
      "Epoch 70/450\n",
      "1/1 [==============================] - 0s 7ms/step - loss: 92.7508\n",
      "Epoch 71/450\n",
      "1/1 [==============================] - 0s 9ms/step - loss: 90.7067\n",
      "Epoch 72/450\n",
      "1/1 [==============================] - 0s 8ms/step - loss: 90.8032\n",
      "Epoch 73/450\n",
      "1/1 [==============================] - 0s 9ms/step - loss: 89.2772\n",
      "Epoch 74/450\n",
      "1/1 [==============================] - 0s 8ms/step - loss: 86.9215\n",
      "Epoch 75/450\n",
      "1/1 [==============================] - 0s 8ms/step - loss: 85.9589\n",
      "Epoch 76/450\n",
      "1/1 [==============================] - 0s 9ms/step - loss: 85.4222\n",
      "Epoch 77/450\n",
      "1/1 [==============================] - 0s 8ms/step - loss: 84.3123\n",
      "Epoch 78/450\n",
      "1/1 [==============================] - 0s 9ms/step - loss: 83.2706\n",
      "Epoch 79/450\n",
      "1/1 [==============================] - 0s 9ms/step - loss: 82.1918\n",
      "Epoch 80/450\n",
      "1/1 [==============================] - 0s 7ms/step - loss: 82.3132\n",
      "Epoch 81/450\n",
      "1/1 [==============================] - 0s 9ms/step - loss: 80.1561\n",
      "Epoch 82/450\n",
      "1/1 [==============================] - 0s 7ms/step - loss: 79.1602\n",
      "Epoch 83/450\n",
      "1/1 [==============================] - 0s 8ms/step - loss: 78.1496\n",
      "Epoch 84/450\n",
      "1/1 [==============================] - 0s 11ms/step - loss: 77.5412\n",
      "Epoch 85/450\n",
      "1/1 [==============================] - 0s 9ms/step - loss: 76.4257\n",
      "Epoch 86/450\n",
      "1/1 [==============================] - 0s 10ms/step - loss: 75.9308\n",
      "Epoch 87/450\n",
      "1/1 [==============================] - 0s 9ms/step - loss: 75.5452\n",
      "Epoch 88/450\n",
      "1/1 [==============================] - 0s 8ms/step - loss: 74.7063\n",
      "Epoch 89/450\n",
      "1/1 [==============================] - 0s 10ms/step - loss: 73.9224\n",
      "Epoch 90/450\n",
      "1/1 [==============================] - 0s 9ms/step - loss: 73.0585\n",
      "Epoch 91/450\n",
      "1/1 [==============================] - 0s 7ms/step - loss: 72.6134\n",
      "Epoch 92/450\n",
      "1/1 [==============================] - 0s 9ms/step - loss: 71.9195\n",
      "Epoch 93/450\n",
      "1/1 [==============================] - 0s 10ms/step - loss: 71.0696\n",
      "Epoch 94/450\n",
      "1/1 [==============================] - 0s 8ms/step - loss: 70.4098\n",
      "Epoch 95/450\n",
      "1/1 [==============================] - 0s 8ms/step - loss: 69.3513\n",
      "Epoch 96/450\n",
      "1/1 [==============================] - 0s 7ms/step - loss: 67.9981\n",
      "Epoch 97/450\n",
      "1/1 [==============================] - 0s 8ms/step - loss: 66.2499\n",
      "Epoch 98/450\n",
      "1/1 [==============================] - 0s 7ms/step - loss: 64.2736\n",
      "Epoch 99/450\n",
      "1/1 [==============================] - 0s 8ms/step - loss: 62.4390\n",
      "Epoch 100/450\n",
      "1/1 [==============================] - 0s 8ms/step - loss: 60.2474\n",
      "Epoch 101/450\n"
     ]
    },
    {
     "name": "stdout",
     "output_type": "stream",
     "text": [
      "1/1 [==============================] - 0s 11ms/step - loss: 57.9625\n",
      "Epoch 102/450\n",
      "1/1 [==============================] - 0s 10ms/step - loss: 55.4167\n",
      "Epoch 103/450\n",
      "1/1 [==============================] - 0s 10ms/step - loss: 53.1595\n",
      "Epoch 104/450\n",
      "1/1 [==============================] - 0s 7ms/step - loss: 51.5004\n",
      "Epoch 105/450\n",
      "1/1 [==============================] - 0s 10ms/step - loss: 49.7935\n",
      "Epoch 106/450\n",
      "1/1 [==============================] - 0s 6ms/step - loss: 48.2298\n",
      "Epoch 107/450\n",
      "1/1 [==============================] - 0s 7ms/step - loss: 46.5581\n",
      "Epoch 108/450\n",
      "1/1 [==============================] - 0s 8ms/step - loss: 45.3839\n",
      "Epoch 109/450\n",
      "1/1 [==============================] - 0s 7ms/step - loss: 44.9419\n",
      "Epoch 110/450\n",
      "1/1 [==============================] - 0s 8ms/step - loss: 44.5052\n",
      "Epoch 111/450\n",
      "1/1 [==============================] - 0s 7ms/step - loss: 42.4268\n",
      "Epoch 112/450\n",
      "1/1 [==============================] - 0s 9ms/step - loss: 43.7303\n",
      "Epoch 113/450\n",
      "1/1 [==============================] - 0s 9ms/step - loss: 40.7434\n",
      "Epoch 114/450\n",
      "1/1 [==============================] - 0s 7ms/step - loss: 40.4979\n",
      "Epoch 115/450\n",
      "1/1 [==============================] - 0s 9ms/step - loss: 40.2509\n",
      "Epoch 116/450\n",
      "1/1 [==============================] - 0s 9ms/step - loss: 38.9543\n",
      "Epoch 117/450\n",
      "1/1 [==============================] - 0s 11ms/step - loss: 39.4477\n",
      "Epoch 118/450\n",
      "1/1 [==============================] - 0s 11ms/step - loss: 37.4115\n",
      "Epoch 119/450\n",
      "1/1 [==============================] - 0s 9ms/step - loss: 39.5241\n",
      "Epoch 120/450\n",
      "1/1 [==============================] - 0s 9ms/step - loss: 36.5029\n",
      "Epoch 121/450\n",
      "1/1 [==============================] - 0s 8ms/step - loss: 36.5135\n",
      "Epoch 122/450\n",
      "1/1 [==============================] - 0s 8ms/step - loss: 36.9679\n",
      "Epoch 123/450\n",
      "1/1 [==============================] - 0s 8ms/step - loss: 35.1861\n",
      "Epoch 124/450\n",
      "1/1 [==============================] - 0s 9ms/step - loss: 37.0187\n",
      "Epoch 125/450\n",
      "1/1 [==============================] - 0s 7ms/step - loss: 35.3616\n",
      "Epoch 126/450\n",
      "1/1 [==============================] - 0s 8ms/step - loss: 35.6346\n",
      "Epoch 127/450\n",
      "1/1 [==============================] - 0s 8ms/step - loss: 34.1553\n",
      "Epoch 128/450\n",
      "1/1 [==============================] - 0s 7ms/step - loss: 35.1131\n",
      "Epoch 129/450\n",
      "1/1 [==============================] - 0s 7ms/step - loss: 34.5243\n",
      "Epoch 130/450\n",
      "1/1 [==============================] - 0s 8ms/step - loss: 32.5042\n",
      "Epoch 131/450\n",
      "1/1 [==============================] - 0s 8ms/step - loss: 32.0716\n",
      "Epoch 132/450\n",
      "1/1 [==============================] - 0s 8ms/step - loss: 32.0810\n",
      "Epoch 133/450\n",
      "1/1 [==============================] - 0s 8ms/step - loss: 31.5310\n",
      "Epoch 134/450\n",
      "1/1 [==============================] - 0s 9ms/step - loss: 31.4507\n",
      "Epoch 135/450\n",
      "1/1 [==============================] - 0s 8ms/step - loss: 31.7457\n",
      "Epoch 136/450\n",
      "1/1 [==============================] - 0s 8ms/step - loss: 29.9710\n",
      "Epoch 137/450\n",
      "1/1 [==============================] - 0s 8ms/step - loss: 29.5733\n",
      "Epoch 138/450\n",
      "1/1 [==============================] - 0s 7ms/step - loss: 29.5066\n",
      "Epoch 139/450\n",
      "1/1 [==============================] - 0s 9ms/step - loss: 29.3894\n",
      "Epoch 140/450\n",
      "1/1 [==============================] - 0s 7ms/step - loss: 28.0368\n",
      "Epoch 141/450\n",
      "1/1 [==============================] - 0s 8ms/step - loss: 28.0440\n",
      "Epoch 142/450\n",
      "1/1 [==============================] - 0s 8ms/step - loss: 27.6330\n",
      "Epoch 143/450\n",
      "1/1 [==============================] - 0s 8ms/step - loss: 28.1121\n",
      "Epoch 144/450\n",
      "1/1 [==============================] - 0s 7ms/step - loss: 26.5615\n",
      "Epoch 145/450\n",
      "1/1 [==============================] - 0s 9ms/step - loss: 26.3133\n",
      "Epoch 146/450\n",
      "1/1 [==============================] - 0s 9ms/step - loss: 26.4433\n",
      "Epoch 147/450\n",
      "1/1 [==============================] - 0s 8ms/step - loss: 26.9987\n",
      "Epoch 148/450\n",
      "1/1 [==============================] - 0s 10ms/step - loss: 25.5549\n",
      "Epoch 149/450\n",
      "1/1 [==============================] - 0s 8ms/step - loss: 27.3603\n",
      "Epoch 150/450\n",
      "1/1 [==============================] - 0s 8ms/step - loss: 26.4762\n",
      "Epoch 151/450\n",
      "1/1 [==============================] - 0s 8ms/step - loss: 24.7726\n",
      "Epoch 152/450\n",
      "1/1 [==============================] - 0s 10ms/step - loss: 25.4095\n",
      "Epoch 153/450\n",
      "1/1 [==============================] - 0s 7ms/step - loss: 24.5525\n",
      "Epoch 154/450\n",
      "1/1 [==============================] - 0s 8ms/step - loss: 24.4188\n",
      "Epoch 155/450\n",
      "1/1 [==============================] - 0s 8ms/step - loss: 24.4317\n",
      "Epoch 156/450\n",
      "1/1 [==============================] - 0s 8ms/step - loss: 24.6677\n",
      "Epoch 157/450\n",
      "1/1 [==============================] - 0s 7ms/step - loss: 24.5751\n",
      "Epoch 158/450\n",
      "1/1 [==============================] - 0s 8ms/step - loss: 23.6547\n",
      "Epoch 159/450\n",
      "1/1 [==============================] - 0s 8ms/step - loss: 25.2257\n",
      "Epoch 160/450\n",
      "1/1 [==============================] - 0s 8ms/step - loss: 26.1159\n",
      "Epoch 161/450\n",
      "1/1 [==============================] - 0s 9ms/step - loss: 22.5225\n",
      "Epoch 162/450\n",
      "1/1 [==============================] - 0s 9ms/step - loss: 27.5632\n",
      "Epoch 163/450\n",
      "1/1 [==============================] - 0s 8ms/step - loss: 25.9709\n",
      "Epoch 164/450\n",
      "1/1 [==============================] - 0s 8ms/step - loss: 22.8912\n",
      "Epoch 165/450\n",
      "1/1 [==============================] - 0s 7ms/step - loss: 29.1903\n",
      "Epoch 166/450\n",
      "1/1 [==============================] - 0s 8ms/step - loss: 30.8656\n",
      "Epoch 167/450\n",
      "1/1 [==============================] - 0s 8ms/step - loss: 26.7674\n",
      "Epoch 168/450\n",
      "1/1 [==============================] - 0s 8ms/step - loss: 31.6622\n",
      "Epoch 169/450\n",
      "1/1 [==============================] - 0s 8ms/step - loss: 24.9151\n",
      "Epoch 170/450\n",
      "1/1 [==============================] - 0s 7ms/step - loss: 24.7884\n",
      "Epoch 171/450\n",
      "1/1 [==============================] - 0s 8ms/step - loss: 27.4838\n",
      "Epoch 172/450\n",
      "1/1 [==============================] - 0s 8ms/step - loss: 21.3214\n",
      "Epoch 173/450\n",
      "1/1 [==============================] - 0s 7ms/step - loss: 24.1999\n",
      "Epoch 174/450\n",
      "1/1 [==============================] - 0s 9ms/step - loss: 21.3308\n",
      "Epoch 175/450\n",
      "1/1 [==============================] - 0s 8ms/step - loss: 24.1423\n",
      "Epoch 176/450\n",
      "1/1 [==============================] - 0s 8ms/step - loss: 23.9571\n",
      "Epoch 177/450\n",
      "1/1 [==============================] - 0s 8ms/step - loss: 20.8358\n",
      "Epoch 178/450\n",
      "1/1 [==============================] - 0s 8ms/step - loss: 24.9389\n",
      "Epoch 179/450\n",
      "1/1 [==============================] - 0s 9ms/step - loss: 23.2685\n",
      "Epoch 180/450\n",
      "1/1 [==============================] - 0s 9ms/step - loss: 21.7829\n",
      "Epoch 181/450\n",
      "1/1 [==============================] - 0s 9ms/step - loss: 24.6038\n",
      "Epoch 182/450\n",
      "1/1 [==============================] - 0s 8ms/step - loss: 20.1052\n",
      "Epoch 183/450\n",
      "1/1 [==============================] - 0s 8ms/step - loss: 21.3093\n",
      "Epoch 184/450\n",
      "1/1 [==============================] - 0s 9ms/step - loss: 20.4469\n",
      "Epoch 185/450\n",
      "1/1 [==============================] - 0s 8ms/step - loss: 19.9084\n",
      "Epoch 186/450\n",
      "1/1 [==============================] - 0s 9ms/step - loss: 20.2448\n",
      "Epoch 187/450\n",
      "1/1 [==============================] - 0s 9ms/step - loss: 19.1833\n",
      "Epoch 188/450\n",
      "1/1 [==============================] - 0s 9ms/step - loss: 19.8900\n",
      "Epoch 189/450\n",
      "1/1 [==============================] - 0s 9ms/step - loss: 20.9220\n",
      "Epoch 190/450\n",
      "1/1 [==============================] - 0s 10ms/step - loss: 18.2979\n",
      "Epoch 191/450\n",
      "1/1 [==============================] - 0s 9ms/step - loss: 19.9232\n",
      "Epoch 192/450\n",
      "1/1 [==============================] - 0s 9ms/step - loss: 19.6208\n",
      "Epoch 193/450\n",
      "1/1 [==============================] - 0s 10ms/step - loss: 17.8417\n",
      "Epoch 194/450\n",
      "1/1 [==============================] - 0s 10ms/step - loss: 18.4415\n",
      "Epoch 195/450\n",
      "1/1 [==============================] - 0s 9ms/step - loss: 17.3974\n",
      "Epoch 196/450\n",
      "1/1 [==============================] - 0s 10ms/step - loss: 17.5969\n",
      "Epoch 197/450\n",
      "1/1 [==============================] - 0s 9ms/step - loss: 17.9932\n",
      "Epoch 198/450\n",
      "1/1 [==============================] - 0s 9ms/step - loss: 19.0467\n",
      "Epoch 199/450\n",
      "1/1 [==============================] - 0s 10ms/step - loss: 16.9832\n",
      "Epoch 200/450\n",
      "1/1 [==============================] - 0s 8ms/step - loss: 18.8062\n",
      "Epoch 201/450\n",
      "1/1 [==============================] - 0s 9ms/step - loss: 19.9755\n",
      "Epoch 202/450\n"
     ]
    },
    {
     "name": "stdout",
     "output_type": "stream",
     "text": [
      "1/1 [==============================] - 0s 8ms/step - loss: 18.5202\n",
      "Epoch 203/450\n",
      "1/1 [==============================] - 0s 8ms/step - loss: 17.1766\n",
      "Epoch 204/450\n",
      "1/1 [==============================] - 0s 9ms/step - loss: 18.8842\n",
      "Epoch 205/450\n",
      "1/1 [==============================] - 0s 8ms/step - loss: 17.9185\n",
      "Epoch 206/450\n",
      "1/1 [==============================] - 0s 8ms/step - loss: 15.9504\n",
      "Epoch 207/450\n",
      "1/1 [==============================] - 0s 8ms/step - loss: 16.3147\n",
      "Epoch 208/450\n",
      "1/1 [==============================] - 0s 7ms/step - loss: 16.0580\n",
      "Epoch 209/450\n",
      "1/1 [==============================] - 0s 8ms/step - loss: 16.2470\n",
      "Epoch 210/450\n",
      "1/1 [==============================] - 0s 8ms/step - loss: 16.3309\n",
      "Epoch 211/450\n",
      "1/1 [==============================] - 0s 7ms/step - loss: 16.4742\n",
      "Epoch 212/450\n",
      "1/1 [==============================] - 0s 8ms/step - loss: 16.8964\n",
      "Epoch 213/450\n",
      "1/1 [==============================] - 0s 27ms/step - loss: 15.2242\n",
      "Epoch 214/450\n",
      "1/1 [==============================] - 0s 11ms/step - loss: 16.6446\n",
      "Epoch 215/450\n",
      "1/1 [==============================] - 0s 8ms/step - loss: 17.1700\n",
      "Epoch 216/450\n",
      "1/1 [==============================] - 0s 8ms/step - loss: 18.1120\n",
      "Epoch 217/450\n",
      "1/1 [==============================] - 0s 7ms/step - loss: 15.2979\n",
      "Epoch 218/450\n",
      "1/1 [==============================] - 0s 8ms/step - loss: 17.3436\n",
      "Epoch 219/450\n",
      "1/1 [==============================] - 0s 8ms/step - loss: 15.4710\n",
      "Epoch 220/450\n",
      "1/1 [==============================] - 0s 7ms/step - loss: 15.7292\n",
      "Epoch 221/450\n",
      "1/1 [==============================] - 0s 8ms/step - loss: 16.0856\n",
      "Epoch 222/450\n",
      "1/1 [==============================] - 0s 8ms/step - loss: 15.2623\n",
      "Epoch 223/450\n",
      "1/1 [==============================] - 0s 9ms/step - loss: 17.2412\n",
      "Epoch 224/450\n",
      "1/1 [==============================] - 0s 7ms/step - loss: 14.5930\n",
      "Epoch 225/450\n",
      "1/1 [==============================] - 0s 8ms/step - loss: 17.0625\n",
      "Epoch 226/450\n",
      "1/1 [==============================] - 0s 8ms/step - loss: 16.4463\n",
      "Epoch 227/450\n",
      "1/1 [==============================] - 0s 8ms/step - loss: 18.7911\n",
      "Epoch 228/450\n",
      "1/1 [==============================] - 0s 9ms/step - loss: 15.0581\n",
      "Epoch 229/450\n",
      "1/1 [==============================] - 0s 8ms/step - loss: 16.6434\n",
      "Epoch 230/450\n",
      "1/1 [==============================] - 0s 8ms/step - loss: 13.4737\n",
      "Epoch 231/450\n",
      "1/1 [==============================] - 0s 8ms/step - loss: 15.2549\n",
      "Epoch 232/450\n",
      "1/1 [==============================] - 0s 7ms/step - loss: 13.5045\n",
      "Epoch 233/450\n",
      "1/1 [==============================] - 0s 9ms/step - loss: 14.2354\n",
      "Epoch 234/450\n",
      "1/1 [==============================] - 0s 7ms/step - loss: 13.2010\n",
      "Epoch 235/450\n",
      "1/1 [==============================] - 0s 8ms/step - loss: 14.1277\n",
      "Epoch 236/450\n",
      "1/1 [==============================] - 0s 8ms/step - loss: 12.7964\n",
      "Epoch 237/450\n",
      "1/1 [==============================] - 0s 8ms/step - loss: 13.5402\n",
      "Epoch 238/450\n",
      "1/1 [==============================] - 0s 8ms/step - loss: 12.6628\n",
      "Epoch 239/450\n",
      "1/1 [==============================] - 0s 8ms/step - loss: 13.0643\n",
      "Epoch 240/450\n",
      "1/1 [==============================] - 0s 8ms/step - loss: 13.2651\n",
      "Epoch 241/450\n",
      "1/1 [==============================] - 0s 8ms/step - loss: 13.1524\n",
      "Epoch 242/450\n",
      "1/1 [==============================] - 0s 9ms/step - loss: 14.1307\n",
      "Epoch 243/450\n",
      "1/1 [==============================] - 0s 9ms/step - loss: 14.2503\n",
      "Epoch 244/450\n",
      "1/1 [==============================] - 0s 8ms/step - loss: 13.1885\n",
      "Epoch 245/450\n",
      "1/1 [==============================] - 0s 7ms/step - loss: 12.9115\n",
      "Epoch 246/450\n",
      "1/1 [==============================] - 0s 8ms/step - loss: 12.1745\n",
      "Epoch 247/450\n",
      "1/1 [==============================] - 0s 8ms/step - loss: 12.4689\n",
      "Epoch 248/450\n",
      "1/1 [==============================] - 0s 8ms/step - loss: 11.8353\n",
      "Epoch 249/450\n",
      "1/1 [==============================] - 0s 8ms/step - loss: 12.5147\n",
      "Epoch 250/450\n",
      "1/1 [==============================] - 0s 8ms/step - loss: 11.9925\n",
      "Epoch 251/450\n",
      "1/1 [==============================] - 0s 7ms/step - loss: 12.8415\n",
      "Epoch 252/450\n",
      "1/1 [==============================] - 0s 9ms/step - loss: 15.3270\n",
      "Epoch 253/450\n",
      "1/1 [==============================] - 0s 9ms/step - loss: 16.3175\n",
      "Epoch 254/450\n",
      "1/1 [==============================] - 0s 8ms/step - loss: 18.1279\n",
      "Epoch 255/450\n",
      "1/1 [==============================] - 0s 9ms/step - loss: 16.6788\n",
      "Epoch 256/450\n",
      "1/1 [==============================] - 0s 8ms/step - loss: 13.3765\n",
      "Epoch 257/450\n",
      "1/1 [==============================] - 0s 7ms/step - loss: 13.4817\n",
      "Epoch 258/450\n",
      "1/1 [==============================] - 0s 8ms/step - loss: 16.2971\n",
      "Epoch 259/450\n",
      "1/1 [==============================] - 0s 9ms/step - loss: 18.4339\n",
      "Epoch 260/450\n",
      "1/1 [==============================] - 0s 12ms/step - loss: 15.0956\n",
      "Epoch 261/450\n",
      "1/1 [==============================] - 0s 9ms/step - loss: 12.2711\n",
      "Epoch 262/450\n",
      "1/1 [==============================] - 0s 8ms/step - loss: 13.0853\n",
      "Epoch 263/450\n",
      "1/1 [==============================] - 0s 7ms/step - loss: 10.9359\n",
      "Epoch 264/450\n",
      "1/1 [==============================] - 0s 8ms/step - loss: 12.7556\n",
      "Epoch 265/450\n",
      "1/1 [==============================] - 0s 9ms/step - loss: 11.3742\n",
      "Epoch 266/450\n",
      "1/1 [==============================] - 0s 9ms/step - loss: 11.4991\n",
      "Epoch 267/450\n",
      "1/1 [==============================] - 0s 8ms/step - loss: 12.4026\n",
      "Epoch 268/450\n",
      "1/1 [==============================] - 0s 8ms/step - loss: 12.6344\n",
      "Epoch 269/450\n",
      "1/1 [==============================] - 0s 8ms/step - loss: 11.5439\n",
      "Epoch 270/450\n",
      "1/1 [==============================] - 0s 8ms/step - loss: 10.8332\n",
      "Epoch 271/450\n",
      "1/1 [==============================] - 0s 8ms/step - loss: 11.1684\n",
      "Epoch 272/450\n",
      "1/1 [==============================] - 0s 8ms/step - loss: 12.9412\n",
      "Epoch 273/450\n",
      "1/1 [==============================] - 0s 8ms/step - loss: 12.6307\n",
      "Epoch 274/450\n",
      "1/1 [==============================] - 0s 8ms/step - loss: 15.7870\n",
      "Epoch 275/450\n",
      "1/1 [==============================] - 0s 7ms/step - loss: 13.4166\n",
      "Epoch 276/450\n",
      "1/1 [==============================] - 0s 10ms/step - loss: 10.7673\n",
      "Epoch 277/450\n",
      "1/1 [==============================] - 0s 9ms/step - loss: 10.4853\n",
      "Epoch 278/450\n",
      "1/1 [==============================] - 0s 8ms/step - loss: 12.1397\n",
      "Epoch 279/450\n",
      "1/1 [==============================] - 0s 9ms/step - loss: 18.6963\n",
      "Epoch 280/450\n",
      "1/1 [==============================] - 0s 8ms/step - loss: 18.7079\n",
      "Epoch 281/450\n",
      "1/1 [==============================] - 0s 8ms/step - loss: 13.8726\n",
      "Epoch 282/450\n",
      "1/1 [==============================] - 0s 7ms/step - loss: 10.2206\n",
      "Epoch 283/450\n",
      "1/1 [==============================] - 0s 8ms/step - loss: 17.0726\n",
      "Epoch 284/450\n",
      "1/1 [==============================] - 0s 9ms/step - loss: 27.7519\n",
      "Epoch 285/450\n",
      "1/1 [==============================] - 0s 8ms/step - loss: 21.0194\n",
      "Epoch 286/450\n",
      "1/1 [==============================] - 0s 8ms/step - loss: 12.0272\n",
      "Epoch 287/450\n",
      "1/1 [==============================] - 0s 8ms/step - loss: 14.4670\n",
      "Epoch 288/450\n",
      "1/1 [==============================] - 0s 9ms/step - loss: 22.9759\n",
      "Epoch 289/450\n",
      "1/1 [==============================] - 0s 7ms/step - loss: 19.8302\n",
      "Epoch 290/450\n",
      "1/1 [==============================] - 0s 9ms/step - loss: 11.2014\n",
      "Epoch 291/450\n",
      "1/1 [==============================] - 0s 9ms/step - loss: 14.7774\n",
      "Epoch 292/450\n",
      "1/1 [==============================] - 0s 10ms/step - loss: 16.1758\n",
      "Epoch 293/450\n",
      "1/1 [==============================] - 0s 8ms/step - loss: 15.4717\n",
      "Epoch 294/450\n",
      "1/1 [==============================] - 0s 9ms/step - loss: 11.3764\n",
      "Epoch 295/450\n",
      "1/1 [==============================] - 0s 9ms/step - loss: 10.6512\n",
      "Epoch 296/450\n",
      "1/1 [==============================] - 0s 9ms/step - loss: 11.6199\n",
      "Epoch 297/450\n",
      "1/1 [==============================] - 0s 8ms/step - loss: 11.1958\n",
      "Epoch 298/450\n",
      "1/1 [==============================] - 0s 10ms/step - loss: 10.5049\n",
      "Epoch 299/450\n",
      "1/1 [==============================] - 0s 9ms/step - loss: 9.4936\n",
      "Epoch 300/450\n",
      "1/1 [==============================] - 0s 11ms/step - loss: 10.2409\n",
      "Epoch 301/450\n",
      "1/1 [==============================] - 0s 10ms/step - loss: 9.2919\n",
      "Epoch 302/450\n",
      "1/1 [==============================] - 0s 9ms/step - loss: 9.8523\n",
      "Epoch 303/450\n"
     ]
    },
    {
     "name": "stdout",
     "output_type": "stream",
     "text": [
      "1/1 [==============================] - 0s 8ms/step - loss: 10.3161\n",
      "Epoch 304/450\n",
      "1/1 [==============================] - 0s 8ms/step - loss: 10.0630\n",
      "Epoch 305/450\n",
      "1/1 [==============================] - 0s 7ms/step - loss: 10.0284\n",
      "Epoch 306/450\n",
      "1/1 [==============================] - 0s 7ms/step - loss: 9.8551\n",
      "Epoch 307/450\n",
      "1/1 [==============================] - 0s 6ms/step - loss: 8.8273\n",
      "Epoch 308/450\n",
      "1/1 [==============================] - 0s 6ms/step - loss: 9.4056\n",
      "Epoch 309/450\n",
      "1/1 [==============================] - 0s 6ms/step - loss: 9.9354\n",
      "Epoch 310/450\n",
      "1/1 [==============================] - 0s 7ms/step - loss: 12.8836\n",
      "Epoch 311/450\n",
      "1/1 [==============================] - 0s 8ms/step - loss: 14.6493\n",
      "Epoch 312/450\n",
      "1/1 [==============================] - 0s 6ms/step - loss: 12.5588\n",
      "Epoch 313/450\n",
      "1/1 [==============================] - 0s 7ms/step - loss: 10.5066\n",
      "Epoch 314/450\n",
      "1/1 [==============================] - 0s 7ms/step - loss: 8.6724\n",
      "Epoch 315/450\n",
      "1/1 [==============================] - 0s 6ms/step - loss: 9.2007\n",
      "Epoch 316/450\n",
      "1/1 [==============================] - 0s 6ms/step - loss: 10.0403\n",
      "Epoch 317/450\n",
      "1/1 [==============================] - 0s 7ms/step - loss: 10.9926\n",
      "Epoch 318/450\n",
      "1/1 [==============================] - 0s 8ms/step - loss: 8.5887\n",
      "Epoch 319/450\n",
      "1/1 [==============================] - 0s 8ms/step - loss: 8.8907\n",
      "Epoch 320/450\n",
      "1/1 [==============================] - 0s 8ms/step - loss: 9.0073\n",
      "Epoch 321/450\n",
      "1/1 [==============================] - 0s 7ms/step - loss: 9.6782\n",
      "Epoch 322/450\n",
      "1/1 [==============================] - 0s 10ms/step - loss: 10.0714\n",
      "Epoch 323/450\n",
      "1/1 [==============================] - 0s 10ms/step - loss: 8.1300\n",
      "Epoch 324/450\n",
      "1/1 [==============================] - 0s 10ms/step - loss: 8.4790\n",
      "Epoch 325/450\n",
      "1/1 [==============================] - 0s 9ms/step - loss: 8.6408\n",
      "Epoch 326/450\n",
      "1/1 [==============================] - 0s 10ms/step - loss: 9.1463\n",
      "Epoch 327/450\n",
      "1/1 [==============================] - 0s 9ms/step - loss: 9.9183\n",
      "Epoch 328/450\n",
      "1/1 [==============================] - 0s 10ms/step - loss: 9.2470\n",
      "Epoch 329/450\n",
      "1/1 [==============================] - 0s 9ms/step - loss: 8.9303\n",
      "Epoch 330/450\n",
      "1/1 [==============================] - 0s 11ms/step - loss: 7.9391\n",
      "Epoch 331/450\n",
      "1/1 [==============================] - 0s 9ms/step - loss: 7.9992\n",
      "Epoch 332/450\n",
      "1/1 [==============================] - 0s 8ms/step - loss: 7.5893\n",
      "Epoch 333/450\n",
      "1/1 [==============================] - 0s 8ms/step - loss: 7.6425\n",
      "Epoch 334/450\n",
      "1/1 [==============================] - 0s 9ms/step - loss: 7.4519\n",
      "Epoch 335/450\n",
      "1/1 [==============================] - 0s 7ms/step - loss: 7.7033\n",
      "Epoch 336/450\n",
      "1/1 [==============================] - 0s 8ms/step - loss: 8.3504\n",
      "Epoch 337/450\n",
      "1/1 [==============================] - 0s 9ms/step - loss: 9.0083\n",
      "Epoch 338/450\n",
      "1/1 [==============================] - 0s 8ms/step - loss: 9.8847\n",
      "Epoch 339/450\n",
      "1/1 [==============================] - 0s 8ms/step - loss: 11.9172\n",
      "Epoch 340/450\n",
      "1/1 [==============================] - 0s 8ms/step - loss: 20.6235\n",
      "Epoch 341/450\n",
      "1/1 [==============================] - 0s 8ms/step - loss: 22.5326\n",
      "Epoch 342/450\n",
      "1/1 [==============================] - 0s 8ms/step - loss: 35.7103\n",
      "Epoch 343/450\n",
      "1/1 [==============================] - 0s 8ms/step - loss: 24.2797\n",
      "Epoch 344/450\n",
      "1/1 [==============================] - 0s 8ms/step - loss: 19.6475\n",
      "Epoch 345/450\n",
      "1/1 [==============================] - 0s 9ms/step - loss: 9.1233\n",
      "Epoch 346/450\n",
      "1/1 [==============================] - 0s 8ms/step - loss: 8.7805\n",
      "Epoch 347/450\n",
      "1/1 [==============================] - 0s 9ms/step - loss: 14.8601\n",
      "Epoch 348/450\n",
      "1/1 [==============================] - 0s 8ms/step - loss: 17.2103\n",
      "Epoch 349/450\n",
      "1/1 [==============================] - 0s 8ms/step - loss: 12.4491\n",
      "Epoch 350/450\n",
      "1/1 [==============================] - 0s 9ms/step - loss: 7.6551\n",
      "Epoch 351/450\n",
      "1/1 [==============================] - 0s 9ms/step - loss: 12.5062\n",
      "Epoch 352/450\n",
      "1/1 [==============================] - 0s 7ms/step - loss: 17.2476\n",
      "Epoch 353/450\n",
      "1/1 [==============================] - 0s 8ms/step - loss: 14.0406\n",
      "Epoch 354/450\n",
      "1/1 [==============================] - 0s 8ms/step - loss: 8.8679\n",
      "Epoch 355/450\n",
      "1/1 [==============================] - 0s 9ms/step - loss: 9.0121\n",
      "Epoch 356/450\n",
      "1/1 [==============================] - 0s 9ms/step - loss: 14.2601\n",
      "Epoch 357/450\n",
      "1/1 [==============================] - 0s 8ms/step - loss: 15.1209\n",
      "Epoch 358/450\n",
      "1/1 [==============================] - 0s 8ms/step - loss: 10.7060\n",
      "Epoch 359/450\n",
      "1/1 [==============================] - 0s 8ms/step - loss: 7.3179\n",
      "Epoch 360/450\n",
      "1/1 [==============================] - 0s 9ms/step - loss: 10.0660\n",
      "Epoch 361/450\n",
      "1/1 [==============================] - 0s 8ms/step - loss: 13.2302\n",
      "Epoch 362/450\n",
      "1/1 [==============================] - 0s 8ms/step - loss: 11.8014\n",
      "Epoch 363/450\n",
      "1/1 [==============================] - 0s 9ms/step - loss: 8.7508\n",
      "Epoch 364/450\n",
      "1/1 [==============================] - 0s 8ms/step - loss: 7.0246\n",
      "Epoch 365/450\n",
      "1/1 [==============================] - 0s 7ms/step - loss: 9.3144\n",
      "Epoch 366/450\n",
      "1/1 [==============================] - 0s 9ms/step - loss: 10.7528\n",
      "Epoch 367/450\n",
      "1/1 [==============================] - 0s 8ms/step - loss: 9.7541\n",
      "Epoch 368/450\n",
      "1/1 [==============================] - 0s 9ms/step - loss: 7.3043\n",
      "Epoch 369/450\n",
      "1/1 [==============================] - 0s 9ms/step - loss: 7.3649\n",
      "Epoch 370/450\n",
      "1/1 [==============================] - 0s 8ms/step - loss: 10.1506\n",
      "Epoch 371/450\n",
      "1/1 [==============================] - 0s 8ms/step - loss: 10.5789\n",
      "Epoch 372/450\n",
      "1/1 [==============================] - 0s 8ms/step - loss: 9.4564\n",
      "Epoch 373/450\n",
      "1/1 [==============================] - 0s 8ms/step - loss: 6.6513\n",
      "Epoch 374/450\n",
      "1/1 [==============================] - 0s 9ms/step - loss: 7.8629\n",
      "Epoch 375/450\n",
      "1/1 [==============================] - 0s 8ms/step - loss: 11.0286\n",
      "Epoch 376/450\n",
      "1/1 [==============================] - 0s 9ms/step - loss: 10.8048\n",
      "Epoch 377/450\n",
      "1/1 [==============================] - 0s 7ms/step - loss: 9.6716\n",
      "Epoch 378/450\n",
      "1/1 [==============================] - 0s 8ms/step - loss: 6.3573\n",
      "Epoch 379/450\n",
      "1/1 [==============================] - 0s 8ms/step - loss: 8.7871\n",
      "Epoch 380/450\n",
      "1/1 [==============================] - 0s 8ms/step - loss: 12.6856\n",
      "Epoch 381/450\n",
      "1/1 [==============================] - 0s 8ms/step - loss: 11.7500\n",
      "Epoch 382/450\n",
      "1/1 [==============================] - 0s 9ms/step - loss: 10.1791\n",
      "Epoch 383/450\n",
      "1/1 [==============================] - 0s 8ms/step - loss: 6.3871\n",
      "Epoch 384/450\n",
      "1/1 [==============================] - 0s 8ms/step - loss: 10.4416\n",
      "Epoch 385/450\n",
      "1/1 [==============================] - 0s 8ms/step - loss: 15.7462\n",
      "Epoch 386/450\n",
      "1/1 [==============================] - 0s 8ms/step - loss: 17.3057\n",
      "Epoch 387/450\n",
      "1/1 [==============================] - 0s 9ms/step - loss: 21.5285\n",
      "Epoch 388/450\n",
      "1/1 [==============================] - 0s 9ms/step - loss: 11.0594\n",
      "Epoch 389/450\n",
      "1/1 [==============================] - 0s 11ms/step - loss: 7.3986\n",
      "Epoch 390/450\n",
      "1/1 [==============================] - 0s 8ms/step - loss: 15.7658\n",
      "Epoch 391/450\n",
      "1/1 [==============================] - 0s 9ms/step - loss: 21.2582\n",
      "Epoch 392/450\n",
      "1/1 [==============================] - 0s 10ms/step - loss: 34.8191\n",
      "Epoch 393/450\n",
      "1/1 [==============================] - 0s 9ms/step - loss: 18.7757\n",
      "Epoch 394/450\n",
      "1/1 [==============================] - 0s 7ms/step - loss: 9.2305\n",
      "Epoch 395/450\n",
      "1/1 [==============================] - 0s 8ms/step - loss: 31.5639\n",
      "Epoch 396/450\n",
      "1/1 [==============================] - 0s 10ms/step - loss: 54.1039\n",
      "Epoch 397/450\n",
      "1/1 [==============================] - 0s 8ms/step - loss: 86.8985\n",
      "Epoch 398/450\n",
      "1/1 [==============================] - 0s 8ms/step - loss: 41.3256\n",
      "Epoch 399/450\n",
      "1/1 [==============================] - 0s 9ms/step - loss: 49.3524\n",
      "Epoch 400/450\n",
      "1/1 [==============================] - 0s 8ms/step - loss: 82.6968\n",
      "Epoch 401/450\n",
      "1/1 [==============================] - 0s 10ms/step - loss: 73.2672\n",
      "Epoch 402/450\n",
      "1/1 [==============================] - 0s 13ms/step - loss: 44.1004\n",
      "Epoch 403/450\n",
      "1/1 [==============================] - 0s 10ms/step - loss: 29.5261\n",
      "Epoch 404/450\n"
     ]
    },
    {
     "name": "stdout",
     "output_type": "stream",
     "text": [
      "1/1 [==============================] - 0s 53ms/step - loss: 26.2395\n",
      "Epoch 405/450\n",
      "1/1 [==============================] - 0s 11ms/step - loss: 33.1352\n",
      "Epoch 406/450\n",
      "1/1 [==============================] - 0s 9ms/step - loss: 50.1604\n",
      "Epoch 407/450\n",
      "1/1 [==============================] - 0s 9ms/step - loss: 43.3859\n",
      "Epoch 408/450\n",
      "1/1 [==============================] - 0s 10ms/step - loss: 17.7459\n",
      "Epoch 409/450\n",
      "1/1 [==============================] - 0s 10ms/step - loss: 18.2360\n",
      "Epoch 410/450\n",
      "1/1 [==============================] - 0s 10ms/step - loss: 25.8583\n",
      "Epoch 411/450\n",
      "1/1 [==============================] - 0s 10ms/step - loss: 17.2679\n",
      "Epoch 412/450\n",
      "1/1 [==============================] - 0s 9ms/step - loss: 9.6747\n",
      "Epoch 413/450\n",
      "1/1 [==============================] - 0s 9ms/step - loss: 8.1561\n",
      "Epoch 414/450\n",
      "1/1 [==============================] - 0s 15ms/step - loss: 14.7825\n",
      "Epoch 415/450\n",
      "1/1 [==============================] - 0s 11ms/step - loss: 10.9405\n",
      "Epoch 416/450\n",
      "1/1 [==============================] - 0s 10ms/step - loss: 6.4774\n",
      "Epoch 417/450\n",
      "1/1 [==============================] - 0s 11ms/step - loss: 8.5534\n",
      "Epoch 418/450\n",
      "1/1 [==============================] - 0s 9ms/step - loss: 10.2702\n",
      "Epoch 419/450\n",
      "1/1 [==============================] - 0s 8ms/step - loss: 9.1364\n",
      "Epoch 420/450\n",
      "1/1 [==============================] - 0s 8ms/step - loss: 6.3234\n",
      "Epoch 421/450\n",
      "1/1 [==============================] - 0s 8ms/step - loss: 7.9226\n",
      "Epoch 422/450\n",
      "1/1 [==============================] - 0s 8ms/step - loss: 10.9589\n",
      "Epoch 423/450\n",
      "1/1 [==============================] - 0s 9ms/step - loss: 12.2387\n",
      "Epoch 424/450\n",
      "1/1 [==============================] - 0s 7ms/step - loss: 9.6212\n",
      "Epoch 425/450\n",
      "1/1 [==============================] - 0s 9ms/step - loss: 5.9943\n",
      "Epoch 426/450\n",
      "1/1 [==============================] - 0s 9ms/step - loss: 6.3289\n",
      "Epoch 427/450\n",
      "1/1 [==============================] - 0s 6ms/step - loss: 9.0116\n",
      "Epoch 428/450\n",
      "1/1 [==============================] - 0s 9ms/step - loss: 8.9181\n",
      "Epoch 429/450\n",
      "1/1 [==============================] - 0s 7ms/step - loss: 7.6445\n",
      "Epoch 430/450\n",
      "1/1 [==============================] - 0s 8ms/step - loss: 5.2914\n",
      "Epoch 431/450\n",
      "1/1 [==============================] - 0s 8ms/step - loss: 6.3042\n",
      "Epoch 432/450\n",
      "1/1 [==============================] - 0s 8ms/step - loss: 8.1444\n",
      "Epoch 433/450\n",
      "1/1 [==============================] - 0s 7ms/step - loss: 7.7577\n",
      "Epoch 434/450\n",
      "1/1 [==============================] - 0s 8ms/step - loss: 5.7683\n",
      "Epoch 435/450\n",
      "1/1 [==============================] - 0s 8ms/step - loss: 5.2345\n",
      "Epoch 436/450\n",
      "1/1 [==============================] - 0s 8ms/step - loss: 7.1737\n",
      "Epoch 437/450\n",
      "1/1 [==============================] - 0s 8ms/step - loss: 7.7494\n",
      "Epoch 438/450\n",
      "1/1 [==============================] - 0s 10ms/step - loss: 6.2792\n",
      "Epoch 439/450\n",
      "1/1 [==============================] - 0s 8ms/step - loss: 4.9107\n",
      "Epoch 440/450\n",
      "1/1 [==============================] - 0s 8ms/step - loss: 5.6896\n",
      "Epoch 441/450\n",
      "1/1 [==============================] - 0s 9ms/step - loss: 7.2925\n",
      "Epoch 442/450\n",
      "1/1 [==============================] - 0s 10ms/step - loss: 8.4205\n",
      "Epoch 443/450\n",
      "1/1 [==============================] - 0s 8ms/step - loss: 6.9647\n",
      "Epoch 444/450\n",
      "1/1 [==============================] - 0s 7ms/step - loss: 4.8727\n",
      "Epoch 445/450\n",
      "1/1 [==============================] - 0s 9ms/step - loss: 5.2824\n",
      "Epoch 446/450\n",
      "1/1 [==============================] - 0s 8ms/step - loss: 6.7513\n",
      "Epoch 447/450\n",
      "1/1 [==============================] - 0s 8ms/step - loss: 6.8314\n",
      "Epoch 448/450\n",
      "1/1 [==============================] - 0s 8ms/step - loss: 5.5387\n",
      "Epoch 449/450\n",
      "1/1 [==============================] - 0s 7ms/step - loss: 4.5597\n",
      "Epoch 450/450\n",
      "1/1 [==============================] - 0s 8ms/step - loss: 4.9202\n"
     ]
    },
    {
     "data": {
      "text/plain": [
       "<keras.callbacks.History at 0x1438a1b6670>"
      ]
     },
     "execution_count": 126,
     "metadata": {},
     "output_type": "execute_result"
    }
   ],
   "source": [
    "#Model training on created numpy arrays above\n",
    "model.compile(optimizer=tf.keras.optimizers.Adam(0.01), loss=tf.keras.losses.MeanSquaredError())\n",
    "model.fit(X, y, epochs=450, verbose=1)"
   ]
  },
  {
   "cell_type": "code",
   "execution_count": null,
   "id": "e95eb10b",
   "metadata": {},
   "outputs": [],
   "source": [
    "#Prediction of next week's values of emotions"
   ]
  },
  {
   "cell_type": "code",
   "execution_count": 127,
   "id": "6eabfafd",
   "metadata": {},
   "outputs": [],
   "source": [
    "tempprdPos = prdPos[-7:]\n",
    "prdPosNew = []"
   ]
  },
  {
   "cell_type": "code",
   "execution_count": 128,
   "id": "a5bb26b3",
   "metadata": {},
   "outputs": [
    {
     "name": "stdout",
     "output_type": "stream",
     "text": [
      "1/1 [==============================] - 0s 149ms/step\n",
      "[[309.9629]]\n",
      "1/1 [==============================] - 0s 28ms/step\n",
      "[[300.85776]]\n",
      "1/1 [==============================] - 0s 19ms/step\n",
      "[[302.7283]]\n",
      "1/1 [==============================] - 0s 20ms/step\n",
      "[[214.24449]]\n",
      "1/1 [==============================] - 0s 20ms/step\n",
      "[[135.1608]]\n",
      "1/1 [==============================] - 0s 28ms/step\n",
      "[[153.0729]]\n",
      "1/1 [==============================] - 0s 26ms/step\n",
      "[[285.8385]]\n",
      "[array([[309.9629]], dtype=float32), array([[300.85776]], dtype=float32), array([[302.7283]], dtype=float32), array([[214.24449]], dtype=float32), array([[135.1608]], dtype=float32), array([[153.0729]], dtype=float32), array([[285.8385]], dtype=float32)]\n"
     ]
    }
   ],
   "source": [
    "for i in range(7):\n",
    "    listtopass = [float(i) for i in tempprdPos[-7:]]\n",
    "    test_data = np.array(listtopass)\n",
    "    test_data = test_data.reshape((1, n_steps, n_features))\n",
    "    predictNextNumber = model.predict(test_data, verbose=1)\n",
    "    print(predictNextNumber)\n",
    "    prdPosNew.append(predictNextNumber)\n",
    "    tempprdPos.append(predictNextNumber)\n",
    "\n",
    "print(prdPosNew)"
   ]
  },
  {
   "cell_type": "code",
   "execution_count": 129,
   "id": "cbed59f8",
   "metadata": {},
   "outputs": [
    {
     "name": "stdout",
     "output_type": "stream",
     "text": [
      "[284, 262, 182, 201, 148, 150, 240]\n",
      "[309, 300, 302, 214, 135, 153, 285]\n"
     ]
    }
   ],
   "source": [
    "prdatelist = dateList[28:35]\n",
    "ogplotlist = allpostpositive[28:35]\n",
    "print(ogplotlist)\n",
    "prplotlist=[]\n",
    "tempplotlist= list(prdPosNew)\n",
    "for i in range(7):\n",
    "    prplotlist.append(int(tempplotlist[i]))\n",
    "print(prplotlist)"
   ]
  },
  {
   "cell_type": "code",
   "execution_count": null,
   "id": "14967a0c",
   "metadata": {},
   "outputs": [],
   "source": [
    "#Plot the prediction graph"
   ]
  },
  {
   "cell_type": "code",
   "execution_count": 130,
   "id": "936e930a",
   "metadata": {},
   "outputs": [
    {
     "data": {
      "text/html": [
       "<div style=\"display: table;\"><div style=\"display: table-row;\"><div style=\"display: table-cell;\"><b title=\"bokeh.models.renderers.GlyphRenderer\">GlyphRenderer</b>(</div><div style=\"display: table-cell;\">id&nbsp;=&nbsp;'6667', <span id=\"6683\" style=\"cursor: pointer;\">&hellip;)</span></div></div><div class=\"6682\" style=\"display: none;\"><div style=\"display: table-cell;\"></div><div style=\"display: table-cell;\">coordinates&nbsp;=&nbsp;None,</div></div><div class=\"6682\" style=\"display: none;\"><div style=\"display: table-cell;\"></div><div style=\"display: table-cell;\">data_source&nbsp;=&nbsp;ColumnDataSource(id='6663', ...),</div></div><div class=\"6682\" style=\"display: none;\"><div style=\"display: table-cell;\"></div><div style=\"display: table-cell;\">glyph&nbsp;=&nbsp;Line(id='6664', ...),</div></div><div class=\"6682\" style=\"display: none;\"><div style=\"display: table-cell;\"></div><div style=\"display: table-cell;\">group&nbsp;=&nbsp;None,</div></div><div class=\"6682\" style=\"display: none;\"><div style=\"display: table-cell;\"></div><div style=\"display: table-cell;\">hover_glyph&nbsp;=&nbsp;None,</div></div><div class=\"6682\" style=\"display: none;\"><div style=\"display: table-cell;\"></div><div style=\"display: table-cell;\">js_event_callbacks&nbsp;=&nbsp;{},</div></div><div class=\"6682\" style=\"display: none;\"><div style=\"display: table-cell;\"></div><div style=\"display: table-cell;\">js_property_callbacks&nbsp;=&nbsp;{},</div></div><div class=\"6682\" style=\"display: none;\"><div style=\"display: table-cell;\"></div><div style=\"display: table-cell;\">level&nbsp;=&nbsp;'glyph',</div></div><div class=\"6682\" style=\"display: none;\"><div style=\"display: table-cell;\"></div><div style=\"display: table-cell;\">muted&nbsp;=&nbsp;False,</div></div><div class=\"6682\" style=\"display: none;\"><div style=\"display: table-cell;\"></div><div style=\"display: table-cell;\">muted_glyph&nbsp;=&nbsp;Line(id='6666', ...),</div></div><div class=\"6682\" style=\"display: none;\"><div style=\"display: table-cell;\"></div><div style=\"display: table-cell;\">name&nbsp;=&nbsp;None,</div></div><div class=\"6682\" style=\"display: none;\"><div style=\"display: table-cell;\"></div><div style=\"display: table-cell;\">nonselection_glyph&nbsp;=&nbsp;Line(id='6665', ...),</div></div><div class=\"6682\" style=\"display: none;\"><div style=\"display: table-cell;\"></div><div style=\"display: table-cell;\">selection_glyph&nbsp;=&nbsp;'auto',</div></div><div class=\"6682\" style=\"display: none;\"><div style=\"display: table-cell;\"></div><div style=\"display: table-cell;\">subscribed_events&nbsp;=&nbsp;[],</div></div><div class=\"6682\" style=\"display: none;\"><div style=\"display: table-cell;\"></div><div style=\"display: table-cell;\">syncable&nbsp;=&nbsp;True,</div></div><div class=\"6682\" style=\"display: none;\"><div style=\"display: table-cell;\"></div><div style=\"display: table-cell;\">tags&nbsp;=&nbsp;[],</div></div><div class=\"6682\" style=\"display: none;\"><div style=\"display: table-cell;\"></div><div style=\"display: table-cell;\">view&nbsp;=&nbsp;CDSView(id='6668', ...),</div></div><div class=\"6682\" style=\"display: none;\"><div style=\"display: table-cell;\"></div><div style=\"display: table-cell;\">visible&nbsp;=&nbsp;True,</div></div><div class=\"6682\" style=\"display: none;\"><div style=\"display: table-cell;\"></div><div style=\"display: table-cell;\">x_range_name&nbsp;=&nbsp;'default',</div></div><div class=\"6682\" style=\"display: none;\"><div style=\"display: table-cell;\"></div><div style=\"display: table-cell;\">y_range_name&nbsp;=&nbsp;'default')</div></div></div>\n",
       "<script>\n",
       "(function() {\n",
       "  let expanded = false;\n",
       "  const ellipsis = document.getElementById(\"6683\");\n",
       "  ellipsis.addEventListener(\"click\", function() {\n",
       "    const rows = document.getElementsByClassName(\"6682\");\n",
       "    for (let i = 0; i < rows.length; i++) {\n",
       "      const el = rows[i];\n",
       "      el.style.display = expanded ? \"none\" : \"table-row\";\n",
       "    }\n",
       "    ellipsis.innerHTML = expanded ? \"&hellip;)\" : \"&lsaquo;&lsaquo;&lsaquo;\";\n",
       "    expanded = !expanded;\n",
       "  });\n",
       "})();\n",
       "</script>\n"
      ],
      "text/plain": [
       "GlyphRenderer(id='6667', ...)"
      ]
     },
     "execution_count": 130,
     "metadata": {},
     "output_type": "execute_result"
    }
   ],
   "source": [
    "prEm = figure(title=\"Prediction of positive emotion\",x_range = prdatelist, x_axis_label='Dates', y_axis_label='Positive emotion score',\n",
    "               y_range = (0, 400),plot_width=1200, plot_height=500)\n",
    "prEm.xaxis.major_label_orientation = np.pi/4\n",
    "prEm.xaxis.axis_label_text_font_size = \"20pt\"\n",
    "prEm.yaxis.axis_label_text_font_size = \"20pt\"\n",
    "prEm.axis.axis_label_text_font_style = 'bold'\n",
    "\n",
    "prEm.line(prdatelist, ogplotlist, legend_label=\"Positive\", color=\"#2ECC71\", line_width=2)\n",
    "prEm.line(prdatelist, prplotlist, legend_label=\"Predicted Positive\", color=\"#F4D03F\", line_width=2)"
   ]
  },
  {
   "cell_type": "code",
   "execution_count": 131,
   "id": "5469615d",
   "metadata": {},
   "outputs": [],
   "source": [
    "show(prEm)"
   ]
  },
  {
   "cell_type": "code",
   "execution_count": 39,
   "id": "90293ad7",
   "metadata": {
    "scrolled": true
   },
   "outputs": [],
   "source": [
    "fp.close()\n",
    "fc.close()"
   ]
  }
 ],
 "metadata": {
  "kernelspec": {
   "display_name": "Python 3 (ipykernel)",
   "language": "python",
   "name": "python3"
  },
  "language_info": {
   "codemirror_mode": {
    "name": "ipython",
    "version": 3
   },
   "file_extension": ".py",
   "mimetype": "text/x-python",
   "name": "python",
   "nbconvert_exporter": "python",
   "pygments_lexer": "ipython3",
   "version": "3.9.7"
  }
 },
 "nbformat": 4,
 "nbformat_minor": 5
}
