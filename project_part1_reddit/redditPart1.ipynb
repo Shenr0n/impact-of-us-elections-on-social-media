{
 "cells": [
  {
   "cell_type": "code",
   "execution_count": null,
   "id": "30615f22",
   "metadata": {},
   "outputs": [],
   "source": [
    "import requests\n",
    "import pymongo\n",
    "import json\n",
    "import time"
   ]
  },
  {
   "cell_type": "code",
   "execution_count": null,
   "id": "21f1db9f",
   "metadata": {},
   "outputs": [],
   "source": [
    "#MongoDB CLient connection and create local DB and collection\n",
    "client = pymongo.MongoClient(\"mongodb://localhost:27017/\")\n",
    "politicsData = client[\"redditDB\"]\n",
    "localCollection = politicsData[\"postCollection\"]\n",
    "commentCollection = politicsData[\"commentCollection\"]\n",
    "\n",
    "#Get login information from text file\n",
    "logininfo = []\n",
    "with open('logininfo.txt', 'r') as f:\n",
    "    templogininfo = f.readlines()\n",
    "for line in templogininfo:\n",
    "    logininfo = logininfo + [line.strip()]\n",
    "CLIENT_ID = logininfo[3]\n",
    "SECRET_KEY = logininfo[4]\n"
   ]
  },
  {
   "cell_type": "code",
   "execution_count": null,
   "id": "d8289da2",
   "metadata": {},
   "outputs": [],
   "source": [
    "#Reddit api authentication and connection\n",
    "auth = requests.auth.HTTPBasicAuth(CLIENT_ID, SECRET_KEY)\n",
    "headers = {}\n",
    "data =  {\n",
    "    'grant_type': 'password',\n",
    "    'username': logininfo[0],\n",
    "    'password': logininfo[1]\n",
    "}\n",
    "reddit_url = 'https://www.reddit.com/'\n",
    "api_url = 'https://oauth.reddit.com'\n",
    "\n",
    "res = requests.post(reddit_url+'api/v1/access_token', auth = auth, data = data,headers = {'User-Agent': logininfo[2]})\n",
    "print(res.status_code)\n",
    "if res.status_code == 200:\n",
    "    resData = res.json()\n",
    "    TOKEN = 'bearer '+ resData['access_token']\n",
    "    headers['User-Agent'] = logininfo[2]\n",
    "    headers['Authorization'] = TOKEN\n",
    "    requests.get(api_url+'/api/v1/me', headers = headers)"
   ]
  },
  {
   "cell_type": "code",
   "execution_count": null,
   "id": "2ba80ad9",
   "metadata": {},
   "outputs": [],
   "source": [
    "#Get subreddits and sorting topics from text files\n",
    "srNameList = []\n",
    "with open('subreddit.txt', 'r') as fsub:\n",
    "    tempsubinfo = fsub.readlines()\n",
    "for line in tempsubinfo:\n",
    "    srNameList = srNameList + [line.strip()]\n",
    "\n",
    "print(srNameList)\n",
    "    \n",
    "srSortList = []\n",
    "with open('sorting.txt', 'r') as fsrt:\n",
    "    tempsortinfo = fsrt.readlines()\n",
    "for line in tempsortinfo:\n",
    "    srSortList = srSortList + [line.strip()]\n",
    "\n",
    "print(srSortList)"
   ]
  },
  {
   "cell_type": "code",
   "execution_count": null,
   "id": "ebbb41d8",
   "metadata": {},
   "outputs": [],
   "source": [
    "#Function to get comments' data\n",
    "def getCommentData(srName,srSort,postidTemp,permalinkTemp):\n",
    "    comRes = requests.get(api_url+permalinkTemp,headers = headers,params = {'limit':'100','depth':1})\n",
    "    if comRes.status_code==200:\n",
    "        comTemp = comRes.json()\n",
    "        comJson = comTemp[1]['data']['children']\n",
    "        for eachCom in comJson:\n",
    "            if eachCom['kind'] == 't1':\n",
    "                com_dictionary = []\n",
    "                if (commentCollection.count_documents({\"comment_id\":eachCom['data']['id']},limit=1) == 0):\n",
    "                    com_dictionary = {\n",
    "                        'subreddit': eachCom['data']['subreddit_name_prefixed'],\n",
    "                        'postid': postidTemp,\n",
    "                        'comment_id': eachCom['data']['id'],\n",
    "                        'comment_text': eachCom['data']['body'],\n",
    "                        'created_utc': eachCom['data']['created_utc']}\n",
    "                    commentCollection.insert_one(com_dictionary)\n",
    "                com_dictionary = []\n",
    "        time.sleep(2)"
   ]
  },
  {
   "cell_type": "code",
   "execution_count": null,
   "id": "c1ad3838",
   "metadata": {},
   "outputs": [],
   "source": [
    "#Function to get posts' data\n",
    "def getPostData():\n",
    "    oldDocumentCount = 0\n",
    "    newDocumentCount = 0\n",
    "    iterationNo = 1\n",
    "    while True:\n",
    "        for srName in srNameList:\n",
    "            print(srName)\n",
    "            for srSort in srSortList:\n",
    "                print(srSort)\n",
    "                firstid = 0\n",
    "                po_id = {}\n",
    "                updatedFlag = 1\n",
    "                if (firstid == 0):\n",
    "                    politicsData = requests.get(api_url+'/r/'+srName+'/'+srSort,headers = headers , params={'limit':'1'})\n",
    "                    for post in politicsData.json()['data']['children']:\n",
    "                        po_id = politicsData.json()['kind']+'_'+post['data']['id']\n",
    "                        \n",
    "                    firstid = 1\n",
    "                if (firstid == 1):\n",
    "                    while (updatedFlag!=0):\n",
    "                        oldDocumentCount = newDocumentCount\n",
    "                        politicsData = requests.get(api_url+'/r/'+srName+'/'+srSort,headers = headers , params={'limit':'100','after':{po_id}})\n",
    "                        politicsData.json()\n",
    "                        po_id = politicsData.json()['data']['after']\n",
    "                        print(po_id)\n",
    "                        for post in politicsData.json()['data']['children']:\n",
    "                            new_dictionary = []\n",
    "                            postidTemp = post['data']['id']\n",
    "                            permalinkTemp = post['data']['permalink']\n",
    "                            if (localCollection.count_documents({\"postid\":post['data']['id']},limit=1) == 0):                        \n",
    "                                new_dictionary = {\n",
    "                                    'subreddit': post['data']['subreddit_name_prefixed'],\n",
    "                                    'postid': post['data']['id'],\n",
    "                                    'created_utc': post['data']['created_utc'],\n",
    "                                    'title':post['data']['title'],\n",
    "                                    'selftext':post['data']['selftext'],\n",
    "                                    'permalink':post['data']['permalink'],\n",
    "                                    'num_comments':post['data']['num_comments'],\n",
    "                                    'upvotes':post['data']['ups'],\n",
    "                                    'upvote_ratio':post['data']['upvote_ratio'],\n",
    "                                    'url': post['data']['url']}\n",
    "                                \n",
    "                                localCollection.insert_one(new_dictionary)\n",
    "                                newDocumentCount = newDocumentCount + 1\n",
    "                            else:\n",
    "                                getCommentData(srName,srSort,postidTemp,permalinkTemp)\n",
    "                            new_dictionary = []\n",
    "                        time.sleep(2)\n",
    "                        if(newDocumentCount - oldDocumentCount != 0):\n",
    "                            updatedFlag = 1\n",
    "                            iterationNo = iterationNo + 1\n",
    "                        else:\n",
    "                            updatedFlag = 0"
   ]
  },
  {
   "cell_type": "code",
   "execution_count": null,
   "id": "73c6c74c",
   "metadata": {},
   "outputs": [],
   "source": [
    "def main(): \n",
    "    try:\n",
    "        getPostData()\n",
    "    except Exception as exception:\n",
    "        file = open('error.txt', 'w+')\n",
    "        file.write('Error: %s' %exception)\n",
    "        file.close()"
   ]
  },
  {
   "cell_type": "code",
   "execution_count": null,
   "id": "009bac41",
   "metadata": {
    "scrolled": true
   },
   "outputs": [],
   "source": [
    "if __name__ == \"__main__\":\n",
    "    main()"
   ]
  }
 ],
 "metadata": {
  "kernelspec": {
   "display_name": "Python 3 (ipykernel)",
   "language": "python",
   "name": "python3"
  },
  "language_info": {
   "codemirror_mode": {
    "name": "ipython",
    "version": 3
   },
   "file_extension": ".py",
   "mimetype": "text/x-python",
   "name": "python",
   "nbconvert_exporter": "python",
   "pygments_lexer": "ipython3",
   "version": "3.9.7"
  }
 },
 "nbformat": 4,
 "nbformat_minor": 5
}
